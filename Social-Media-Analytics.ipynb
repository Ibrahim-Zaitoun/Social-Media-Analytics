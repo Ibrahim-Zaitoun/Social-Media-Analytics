{
 "cells": [
  {
   "cell_type": "code",
   "execution_count": 1,
   "id": "55ccb809",
   "metadata": {},
   "outputs": [],
   "source": [
    "import pandas as pd"
   ]
  },
  {
   "cell_type": "code",
   "execution_count": 2,
   "id": "ff9bc72f",
   "metadata": {},
   "outputs": [
    {
     "data": {
      "text/html": [
       "<div>\n",
       "<style scoped>\n",
       "    .dataframe tbody tr th:only-of-type {\n",
       "        vertical-align: middle;\n",
       "    }\n",
       "\n",
       "    .dataframe tbody tr th {\n",
       "        vertical-align: top;\n",
       "    }\n",
       "\n",
       "    .dataframe thead th {\n",
       "        text-align: right;\n",
       "    }\n",
       "</style>\n",
       "<table border=\"1\" class=\"dataframe\">\n",
       "  <thead>\n",
       "    <tr style=\"text-align: right;\">\n",
       "      <th></th>\n",
       "      <th>Reporting Starts</th>\n",
       "      <th>Reporting Ends</th>\n",
       "      <th>Ad Set Name</th>\n",
       "      <th>Amount Spent</th>\n",
       "      <th>Results</th>\n",
       "      <th>Result indicator</th>\n",
       "      <th>CPR</th>\n",
       "      <th>Reach</th>\n",
       "      <th>Impressions</th>\n",
       "      <th>Frequency</th>\n",
       "      <th>CPM</th>\n",
       "      <th>CPC</th>\n",
       "      <th>CTR (all)</th>\n",
       "      <th>Link Clicks</th>\n",
       "      <th>Landing Page Views</th>\n",
       "    </tr>\n",
       "  </thead>\n",
       "  <tbody>\n",
       "    <tr>\n",
       "      <th>0</th>\n",
       "      <td>20/5/2022</td>\n",
       "      <td>31/5/2022</td>\n",
       "      <td>T1 - Cold - LLA - Promo May</td>\n",
       "      <td>332.65</td>\n",
       "      <td>2</td>\n",
       "      <td>actions:offsite_conversion.fb_pixel_purchase</td>\n",
       "      <td>166.325000</td>\n",
       "      <td>6032</td>\n",
       "      <td>12594</td>\n",
       "      <td>2.087865</td>\n",
       "      <td>26.413371</td>\n",
       "      <td>2.294138</td>\n",
       "      <td>2.207400</td>\n",
       "      <td>145</td>\n",
       "      <td>89</td>\n",
       "    </tr>\n",
       "    <tr>\n",
       "      <th>1</th>\n",
       "      <td>20/5/2022</td>\n",
       "      <td>31/5/2022</td>\n",
       "      <td>T1 - Cold - DT - Promo May</td>\n",
       "      <td>915.00</td>\n",
       "      <td>15</td>\n",
       "      <td>actions:offsite_conversion.fb_pixel_purchase</td>\n",
       "      <td>61.000000</td>\n",
       "      <td>18900</td>\n",
       "      <td>42510</td>\n",
       "      <td>2.249206</td>\n",
       "      <td>21.524347</td>\n",
       "      <td>2.636888</td>\n",
       "      <td>1.587862</td>\n",
       "      <td>347</td>\n",
       "      <td>215</td>\n",
       "    </tr>\n",
       "    <tr>\n",
       "      <th>2</th>\n",
       "      <td>20/5/2022</td>\n",
       "      <td>31/5/2022</td>\n",
       "      <td>T2 - Cold - LLA - Promo May</td>\n",
       "      <td>327.77</td>\n",
       "      <td>4</td>\n",
       "      <td>actions:offsite_conversion.fb_pixel_purchase</td>\n",
       "      <td>81.942500</td>\n",
       "      <td>34743</td>\n",
       "      <td>61268</td>\n",
       "      <td>1.763463</td>\n",
       "      <td>5.349775</td>\n",
       "      <td>0.947312</td>\n",
       "      <td>1.237187</td>\n",
       "      <td>346</td>\n",
       "      <td>220</td>\n",
       "    </tr>\n",
       "    <tr>\n",
       "      <th>3</th>\n",
       "      <td>20/5/2022</td>\n",
       "      <td>31/5/2022</td>\n",
       "      <td>T2 - Cold - DT - Promo May</td>\n",
       "      <td>297.38</td>\n",
       "      <td>0</td>\n",
       "      <td>NaN</td>\n",
       "      <td>NaN</td>\n",
       "      <td>45001</td>\n",
       "      <td>65880</td>\n",
       "      <td>1.463967</td>\n",
       "      <td>4.513965</td>\n",
       "      <td>0.788806</td>\n",
       "      <td>1.220401</td>\n",
       "      <td>377</td>\n",
       "      <td>225</td>\n",
       "    </tr>\n",
       "    <tr>\n",
       "      <th>4</th>\n",
       "      <td>20/5/2022</td>\n",
       "      <td>31/5/2022</td>\n",
       "      <td>T3 - Cold - LLA - Promo May</td>\n",
       "      <td>291.45</td>\n",
       "      <td>4</td>\n",
       "      <td>actions:offsite_conversion.fb_pixel_purchase</td>\n",
       "      <td>72.862500</td>\n",
       "      <td>69040</td>\n",
       "      <td>147600</td>\n",
       "      <td>2.137891</td>\n",
       "      <td>1.974594</td>\n",
       "      <td>0.464092</td>\n",
       "      <td>1.115854</td>\n",
       "      <td>628</td>\n",
       "      <td>372</td>\n",
       "    </tr>\n",
       "    <tr>\n",
       "      <th>5</th>\n",
       "      <td>20/5/2022</td>\n",
       "      <td>31/5/2022</td>\n",
       "      <td>T3 - Cold - DT - Promo May</td>\n",
       "      <td>49.23</td>\n",
       "      <td>0</td>\n",
       "      <td>NaN</td>\n",
       "      <td>NaN</td>\n",
       "      <td>27448</td>\n",
       "      <td>38664</td>\n",
       "      <td>1.408627</td>\n",
       "      <td>1.273277</td>\n",
       "      <td>0.259105</td>\n",
       "      <td>1.259570</td>\n",
       "      <td>190</td>\n",
       "      <td>77</td>\n",
       "    </tr>\n",
       "    <tr>\n",
       "      <th>6</th>\n",
       "      <td>20/5/2022</td>\n",
       "      <td>31/5/2022</td>\n",
       "      <td>T4 - Cold - DT - Promo May</td>\n",
       "      <td>91.02</td>\n",
       "      <td>2</td>\n",
       "      <td>actions:offsite_conversion.fb_pixel_purchase</td>\n",
       "      <td>45.510000</td>\n",
       "      <td>44784</td>\n",
       "      <td>65515</td>\n",
       "      <td>1.462911</td>\n",
       "      <td>1.389300</td>\n",
       "      <td>0.238272</td>\n",
       "      <td>1.340151</td>\n",
       "      <td>382</td>\n",
       "      <td>169</td>\n",
       "    </tr>\n",
       "    <tr>\n",
       "      <th>7</th>\n",
       "      <td>20/5/2022</td>\n",
       "      <td>31/5/2022</td>\n",
       "      <td>T4 - Cold - LLA - Promo May</td>\n",
       "      <td>272.38</td>\n",
       "      <td>5</td>\n",
       "      <td>actions:offsite_conversion.fb_pixel_purchase</td>\n",
       "      <td>54.476000</td>\n",
       "      <td>109535</td>\n",
       "      <td>201309</td>\n",
       "      <td>1.837851</td>\n",
       "      <td>1.353044</td>\n",
       "      <td>0.298662</td>\n",
       "      <td>0.997968</td>\n",
       "      <td>912</td>\n",
       "      <td>540</td>\n",
       "    </tr>\n",
       "    <tr>\n",
       "      <th>8</th>\n",
       "      <td>20/5/2022</td>\n",
       "      <td>31/5/2022</td>\n",
       "      <td>Warm - CRSL</td>\n",
       "      <td>431.14</td>\n",
       "      <td>14</td>\n",
       "      <td>actions:offsite_conversion.fb_pixel_purchase</td>\n",
       "      <td>30.795714</td>\n",
       "      <td>43008</td>\n",
       "      <td>208699</td>\n",
       "      <td>4.852562</td>\n",
       "      <td>2.065846</td>\n",
       "      <td>0.688722</td>\n",
       "      <td>0.728322</td>\n",
       "      <td>626</td>\n",
       "      <td>357</td>\n",
       "    </tr>\n",
       "    <tr>\n",
       "      <th>9</th>\n",
       "      <td>20/5/2022</td>\n",
       "      <td>31/5/2022</td>\n",
       "      <td>Warm - Videos</td>\n",
       "      <td>430.95</td>\n",
       "      <td>6</td>\n",
       "      <td>actions:offsite_conversion.fb_pixel_purchase</td>\n",
       "      <td>71.825000</td>\n",
       "      <td>21456</td>\n",
       "      <td>115344</td>\n",
       "      <td>5.375839</td>\n",
       "      <td>3.736215</td>\n",
       "      <td>0.543443</td>\n",
       "      <td>1.377618</td>\n",
       "      <td>793</td>\n",
       "      <td>185</td>\n",
       "    </tr>\n",
       "    <tr>\n",
       "      <th>10</th>\n",
       "      <td>20/5/2022</td>\n",
       "      <td>31/5/2022</td>\n",
       "      <td>HOT - Last day</td>\n",
       "      <td>62.19</td>\n",
       "      <td>1</td>\n",
       "      <td>actions:offsite_conversion.fb_pixel_purchase</td>\n",
       "      <td>62.190000</td>\n",
       "      <td>5774</td>\n",
       "      <td>11973</td>\n",
       "      <td>2.073606</td>\n",
       "      <td>5.194187</td>\n",
       "      <td>1.351957</td>\n",
       "      <td>0.943790</td>\n",
       "      <td>46</td>\n",
       "      <td>27</td>\n",
       "    </tr>\n",
       "    <tr>\n",
       "      <th>11</th>\n",
       "      <td>20/5/2022</td>\n",
       "      <td>31/5/2022</td>\n",
       "      <td>HOT - Last chance &amp; crsl</td>\n",
       "      <td>634.62</td>\n",
       "      <td>20</td>\n",
       "      <td>actions:offsite_conversion.fb_pixel_purchase</td>\n",
       "      <td>31.731000</td>\n",
       "      <td>16536</td>\n",
       "      <td>120670</td>\n",
       "      <td>7.297412</td>\n",
       "      <td>5.259136</td>\n",
       "      <td>1.047228</td>\n",
       "      <td>1.104666</td>\n",
       "      <td>606</td>\n",
       "      <td>395</td>\n",
       "    </tr>\n",
       "    <tr>\n",
       "      <th>12</th>\n",
       "      <td>20/5/2022</td>\n",
       "      <td>31/5/2022</td>\n",
       "      <td>HOT - Discount</td>\n",
       "      <td>226.34</td>\n",
       "      <td>10</td>\n",
       "      <td>actions:offsite_conversion.fb_pixel_purchase</td>\n",
       "      <td>22.634000</td>\n",
       "      <td>11277</td>\n",
       "      <td>44026</td>\n",
       "      <td>3.904052</td>\n",
       "      <td>5.141053</td>\n",
       "      <td>1.185026</td>\n",
       "      <td>1.053923</td>\n",
       "      <td>191</td>\n",
       "      <td>114</td>\n",
       "    </tr>\n",
       "  </tbody>\n",
       "</table>\n",
       "</div>"
      ],
      "text/plain": [
       "   Reporting Starts Reporting Ends                  Ad Set Name  Amount Spent  \\\n",
       "0         20/5/2022      31/5/2022  T1 - Cold - LLA - Promo May        332.65   \n",
       "1         20/5/2022      31/5/2022   T1 - Cold - DT - Promo May        915.00   \n",
       "2         20/5/2022      31/5/2022  T2 - Cold - LLA - Promo May        327.77   \n",
       "3         20/5/2022      31/5/2022   T2 - Cold - DT - Promo May        297.38   \n",
       "4         20/5/2022      31/5/2022  T3 - Cold - LLA - Promo May        291.45   \n",
       "5         20/5/2022      31/5/2022   T3 - Cold - DT - Promo May         49.23   \n",
       "6         20/5/2022      31/5/2022   T4 - Cold - DT - Promo May         91.02   \n",
       "7         20/5/2022      31/5/2022  T4 - Cold - LLA - Promo May        272.38   \n",
       "8         20/5/2022      31/5/2022                  Warm - CRSL        431.14   \n",
       "9         20/5/2022      31/5/2022                Warm - Videos        430.95   \n",
       "10        20/5/2022      31/5/2022               HOT - Last day         62.19   \n",
       "11        20/5/2022      31/5/2022     HOT - Last chance & crsl        634.62   \n",
       "12        20/5/2022      31/5/2022               HOT - Discount        226.34   \n",
       "\n",
       "    Results                              Result indicator         CPR   Reach  \\\n",
       "0         2  actions:offsite_conversion.fb_pixel_purchase  166.325000    6032   \n",
       "1        15  actions:offsite_conversion.fb_pixel_purchase   61.000000   18900   \n",
       "2         4  actions:offsite_conversion.fb_pixel_purchase   81.942500   34743   \n",
       "3         0                                           NaN         NaN   45001   \n",
       "4         4  actions:offsite_conversion.fb_pixel_purchase   72.862500   69040   \n",
       "5         0                                           NaN         NaN   27448   \n",
       "6         2  actions:offsite_conversion.fb_pixel_purchase   45.510000   44784   \n",
       "7         5  actions:offsite_conversion.fb_pixel_purchase   54.476000  109535   \n",
       "8        14  actions:offsite_conversion.fb_pixel_purchase   30.795714   43008   \n",
       "9         6  actions:offsite_conversion.fb_pixel_purchase   71.825000   21456   \n",
       "10        1  actions:offsite_conversion.fb_pixel_purchase   62.190000    5774   \n",
       "11       20  actions:offsite_conversion.fb_pixel_purchase   31.731000   16536   \n",
       "12       10  actions:offsite_conversion.fb_pixel_purchase   22.634000   11277   \n",
       "\n",
       "    Impressions  Frequency        CPM       CPC  CTR (all)  Link Clicks  \\\n",
       "0         12594   2.087865  26.413371  2.294138   2.207400          145   \n",
       "1         42510   2.249206  21.524347  2.636888   1.587862          347   \n",
       "2         61268   1.763463   5.349775  0.947312   1.237187          346   \n",
       "3         65880   1.463967   4.513965  0.788806   1.220401          377   \n",
       "4        147600   2.137891   1.974594  0.464092   1.115854          628   \n",
       "5         38664   1.408627   1.273277  0.259105   1.259570          190   \n",
       "6         65515   1.462911   1.389300  0.238272   1.340151          382   \n",
       "7        201309   1.837851   1.353044  0.298662   0.997968          912   \n",
       "8        208699   4.852562   2.065846  0.688722   0.728322          626   \n",
       "9        115344   5.375839   3.736215  0.543443   1.377618          793   \n",
       "10        11973   2.073606   5.194187  1.351957   0.943790           46   \n",
       "11       120670   7.297412   5.259136  1.047228   1.104666          606   \n",
       "12        44026   3.904052   5.141053  1.185026   1.053923          191   \n",
       "\n",
       "    Landing Page Views  \n",
       "0                   89  \n",
       "1                  215  \n",
       "2                  220  \n",
       "3                  225  \n",
       "4                  372  \n",
       "5                   77  \n",
       "6                  169  \n",
       "7                  540  \n",
       "8                  357  \n",
       "9                  185  \n",
       "10                  27  \n",
       "11                 395  \n",
       "12                 114  "
      ]
     },
     "execution_count": 2,
     "metadata": {},
     "output_type": "execute_result"
    }
   ],
   "source": [
    "df = pd.read_csv(r'D:\\Data\\Section 7\\1_Examining the dataset\\Course notes\\7.1 365DS Adsets.csv')\n",
    "df"
   ]
  },
  {
   "cell_type": "code",
   "execution_count": 3,
   "id": "01ecda5f",
   "metadata": {},
   "outputs": [
    {
     "name": "stdout",
     "output_type": "stream",
     "text": [
      "<class 'pandas.core.frame.DataFrame'>\n",
      "RangeIndex: 13 entries, 0 to 12\n",
      "Data columns (total 15 columns):\n",
      " #   Column              Non-Null Count  Dtype  \n",
      "---  ------              --------------  -----  \n",
      " 0   Reporting Starts    13 non-null     object \n",
      " 1   Reporting Ends      13 non-null     object \n",
      " 2   Ad Set Name         13 non-null     object \n",
      " 3   Amount Spent        13 non-null     float64\n",
      " 4   Results             13 non-null     int64  \n",
      " 5   Result indicator    11 non-null     object \n",
      " 6   CPR                 11 non-null     float64\n",
      " 7   Reach               13 non-null     int64  \n",
      " 8   Impressions         13 non-null     int64  \n",
      " 9   Frequency           13 non-null     float64\n",
      " 10  CPM                 13 non-null     float64\n",
      " 11  CPC                 13 non-null     float64\n",
      " 12  CTR (all)           13 non-null     float64\n",
      " 13  Link Clicks         13 non-null     int64  \n",
      " 14  Landing Page Views  13 non-null     int64  \n",
      "dtypes: float64(6), int64(5), object(4)\n",
      "memory usage: 1.6+ KB\n"
     ]
    }
   ],
   "source": [
    "df.info()"
   ]
  },
  {
   "cell_type": "code",
   "execution_count": 4,
   "id": "7e61f7ce",
   "metadata": {},
   "outputs": [
    {
     "data": {
      "text/plain": [
       "Reach                  453534.00\n",
       "Impressions           1136052.00\n",
       "Link Clicks              5589.00\n",
       "Landing Page Views       2985.00\n",
       "Results                    83.00\n",
       "Amount Spent             4362.12\n",
       "dtype: float64"
      ]
     },
     "execution_count": 4,
     "metadata": {},
     "output_type": "execute_result"
    }
   ],
   "source": [
    "df[['Reach','Impressions','Link Clicks','Landing Page Views','Results','Amount Spent']].sum()"
   ]
  },
  {
   "cell_type": "markdown",
   "id": "d22b748d",
   "metadata": {},
   "source": [
    "## Campaign Highlights\n",
    "\n",
    "1. We have reached 450K unique people .\n",
    "2. Approx 1.1M impressions .\n",
    "3. Each person saw th Ad around 2.5 times .\n",
    "4. Approx 5.6k who have clicked on the Ad , but only around half of them actally arrived at the Landing Page.\n",
    "5. 365 DataScience have spent 4362 Euro on this entire campaign .\n",
    "6. Total : 83 Subscribtion ."
   ]
  },
  {
   "cell_type": "markdown",
   "id": "01a070c7",
   "metadata": {},
   "source": [
    "## a) CPM (Cost per 1000 Impressions) \n",
    "=  (Total Amount Spent / Impressions) * 1000"
   ]
  },
  {
   "cell_type": "code",
   "execution_count": 5,
   "id": "3365ef6f",
   "metadata": {},
   "outputs": [
    {
     "data": {
      "text/plain": [
       "0     26.413371\n",
       "1     21.524347\n",
       "2      5.349775\n",
       "3      4.513965\n",
       "4      1.974593\n",
       "5      1.273277\n",
       "6      1.389300\n",
       "7      1.353044\n",
       "8      2.065846\n",
       "9      3.736215\n",
       "10     5.194187\n",
       "11     5.259136\n",
       "12     5.141053\n",
       "dtype: float64"
      ]
     },
     "execution_count": 5,
     "metadata": {},
     "output_type": "execute_result"
    }
   ],
   "source": [
    "df['Amount Spent'] / df['Impressions'] * 1000"
   ]
  },
  {
   "cell_type": "code",
   "execution_count": 6,
   "id": "65168dbc",
   "metadata": {},
   "outputs": [
    {
     "data": {
      "text/plain": [
       "6.552931634584926"
      ]
     },
     "execution_count": 6,
     "metadata": {},
     "output_type": "execute_result"
    }
   ],
   "source": [
    "(df['Amount Spent'] / df['Impressions'] * 1000).mean()"
   ]
  },
  {
   "cell_type": "code",
   "execution_count": 7,
   "id": "7825a770",
   "metadata": {},
   "outputs": [
    {
     "data": {
      "text/plain": [
       "0     26.413371\n",
       "1     21.524347\n",
       "2      5.349775\n",
       "3      4.513965\n",
       "4      1.974594\n",
       "5      1.273277\n",
       "6      1.389300\n",
       "7      1.353044\n",
       "8      2.065846\n",
       "9      3.736215\n",
       "10     5.194187\n",
       "11     5.259136\n",
       "12     5.141053\n",
       "Name: CPM, dtype: float64"
      ]
     },
     "execution_count": 7,
     "metadata": {},
     "output_type": "execute_result"
    }
   ],
   "source": [
    "df['CPM']"
   ]
  },
  {
   "cell_type": "code",
   "execution_count": 8,
   "id": "bcc26ecf",
   "metadata": {},
   "outputs": [
    {
     "data": {
      "text/plain": [
       "6.552931538461538"
      ]
     },
     "execution_count": 8,
     "metadata": {},
     "output_type": "execute_result"
    }
   ],
   "source": [
    "df['CPM'].mean()"
   ]
  },
  {
   "cell_type": "markdown",
   "id": "9f88c857",
   "metadata": {},
   "source": [
    "## b) CPR (Cost Per Result)\n",
    "=(Total Amount Spent / Total Number Of Results )"
   ]
  },
  {
   "cell_type": "code",
   "execution_count": 9,
   "id": "da37261e",
   "metadata": {},
   "outputs": [
    {
     "data": {
      "text/plain": [
       "0     166.325000\n",
       "1      61.000000\n",
       "2      81.942500\n",
       "3            inf\n",
       "4      72.862500\n",
       "5            inf\n",
       "6      45.510000\n",
       "7      54.476000\n",
       "8      30.795714\n",
       "9      71.825000\n",
       "10     62.190000\n",
       "11     31.731000\n",
       "12     22.634000\n",
       "dtype: float64"
      ]
     },
     "execution_count": 9,
     "metadata": {},
     "output_type": "execute_result"
    }
   ],
   "source": [
    "df['Amount Spent'] / df['Results']"
   ]
  },
  {
   "cell_type": "code",
   "execution_count": 10,
   "id": "63416060",
   "metadata": {},
   "outputs": [
    {
     "data": {
      "text/plain": [
       "inf"
      ]
     },
     "execution_count": 10,
     "metadata": {},
     "output_type": "execute_result"
    }
   ],
   "source": [
    "(df['Amount Spent'] / df['Results']).mean()"
   ]
  },
  {
   "cell_type": "code",
   "execution_count": 11,
   "id": "1028d910",
   "metadata": {},
   "outputs": [
    {
     "data": {
      "text/plain": [
       "63.75379220818183"
      ]
     },
     "execution_count": 11,
     "metadata": {},
     "output_type": "execute_result"
    }
   ],
   "source": [
    "df['CPR'].mean()"
   ]
  },
  {
   "cell_type": "code",
   "execution_count": 12,
   "id": "85d285f8",
   "metadata": {},
   "outputs": [
    {
     "data": {
      "text/html": [
       "<div>\n",
       "<style scoped>\n",
       "    .dataframe tbody tr th:only-of-type {\n",
       "        vertical-align: middle;\n",
       "    }\n",
       "\n",
       "    .dataframe tbody tr th {\n",
       "        vertical-align: top;\n",
       "    }\n",
       "\n",
       "    .dataframe thead th {\n",
       "        text-align: right;\n",
       "    }\n",
       "</style>\n",
       "<table border=\"1\" class=\"dataframe\">\n",
       "  <thead>\n",
       "    <tr style=\"text-align: right;\">\n",
       "      <th></th>\n",
       "      <th>Reporting Starts</th>\n",
       "      <th>Reporting Ends</th>\n",
       "      <th>Ad Set Name</th>\n",
       "      <th>Amount Spent</th>\n",
       "      <th>Results</th>\n",
       "      <th>Result indicator</th>\n",
       "      <th>CPR</th>\n",
       "      <th>Reach</th>\n",
       "      <th>Impressions</th>\n",
       "      <th>Frequency</th>\n",
       "      <th>CPM</th>\n",
       "      <th>CPC</th>\n",
       "      <th>CTR (all)</th>\n",
       "      <th>Link Clicks</th>\n",
       "      <th>Landing Page Views</th>\n",
       "    </tr>\n",
       "  </thead>\n",
       "  <tbody>\n",
       "    <tr>\n",
       "      <th>0</th>\n",
       "      <td>20/5/2022</td>\n",
       "      <td>31/5/2022</td>\n",
       "      <td>T1 - Cold - LLA - Promo May</td>\n",
       "      <td>332.65</td>\n",
       "      <td>2</td>\n",
       "      <td>actions:offsite_conversion.fb_pixel_purchase</td>\n",
       "      <td>166.325000</td>\n",
       "      <td>6032</td>\n",
       "      <td>12594</td>\n",
       "      <td>2.087865</td>\n",
       "      <td>26.413371</td>\n",
       "      <td>2.294138</td>\n",
       "      <td>2.207400</td>\n",
       "      <td>145</td>\n",
       "      <td>89</td>\n",
       "    </tr>\n",
       "    <tr>\n",
       "      <th>1</th>\n",
       "      <td>20/5/2022</td>\n",
       "      <td>31/5/2022</td>\n",
       "      <td>T1 - Cold - DT - Promo May</td>\n",
       "      <td>915.00</td>\n",
       "      <td>15</td>\n",
       "      <td>actions:offsite_conversion.fb_pixel_purchase</td>\n",
       "      <td>61.000000</td>\n",
       "      <td>18900</td>\n",
       "      <td>42510</td>\n",
       "      <td>2.249206</td>\n",
       "      <td>21.524347</td>\n",
       "      <td>2.636888</td>\n",
       "      <td>1.587862</td>\n",
       "      <td>347</td>\n",
       "      <td>215</td>\n",
       "    </tr>\n",
       "    <tr>\n",
       "      <th>2</th>\n",
       "      <td>20/5/2022</td>\n",
       "      <td>31/5/2022</td>\n",
       "      <td>T2 - Cold - LLA - Promo May</td>\n",
       "      <td>327.77</td>\n",
       "      <td>4</td>\n",
       "      <td>actions:offsite_conversion.fb_pixel_purchase</td>\n",
       "      <td>81.942500</td>\n",
       "      <td>34743</td>\n",
       "      <td>61268</td>\n",
       "      <td>1.763463</td>\n",
       "      <td>5.349775</td>\n",
       "      <td>0.947312</td>\n",
       "      <td>1.237187</td>\n",
       "      <td>346</td>\n",
       "      <td>220</td>\n",
       "    </tr>\n",
       "    <tr>\n",
       "      <th>4</th>\n",
       "      <td>20/5/2022</td>\n",
       "      <td>31/5/2022</td>\n",
       "      <td>T3 - Cold - LLA - Promo May</td>\n",
       "      <td>291.45</td>\n",
       "      <td>4</td>\n",
       "      <td>actions:offsite_conversion.fb_pixel_purchase</td>\n",
       "      <td>72.862500</td>\n",
       "      <td>69040</td>\n",
       "      <td>147600</td>\n",
       "      <td>2.137891</td>\n",
       "      <td>1.974594</td>\n",
       "      <td>0.464092</td>\n",
       "      <td>1.115854</td>\n",
       "      <td>628</td>\n",
       "      <td>372</td>\n",
       "    </tr>\n",
       "    <tr>\n",
       "      <th>6</th>\n",
       "      <td>20/5/2022</td>\n",
       "      <td>31/5/2022</td>\n",
       "      <td>T4 - Cold - DT - Promo May</td>\n",
       "      <td>91.02</td>\n",
       "      <td>2</td>\n",
       "      <td>actions:offsite_conversion.fb_pixel_purchase</td>\n",
       "      <td>45.510000</td>\n",
       "      <td>44784</td>\n",
       "      <td>65515</td>\n",
       "      <td>1.462911</td>\n",
       "      <td>1.389300</td>\n",
       "      <td>0.238272</td>\n",
       "      <td>1.340151</td>\n",
       "      <td>382</td>\n",
       "      <td>169</td>\n",
       "    </tr>\n",
       "    <tr>\n",
       "      <th>7</th>\n",
       "      <td>20/5/2022</td>\n",
       "      <td>31/5/2022</td>\n",
       "      <td>T4 - Cold - LLA - Promo May</td>\n",
       "      <td>272.38</td>\n",
       "      <td>5</td>\n",
       "      <td>actions:offsite_conversion.fb_pixel_purchase</td>\n",
       "      <td>54.476000</td>\n",
       "      <td>109535</td>\n",
       "      <td>201309</td>\n",
       "      <td>1.837851</td>\n",
       "      <td>1.353044</td>\n",
       "      <td>0.298662</td>\n",
       "      <td>0.997968</td>\n",
       "      <td>912</td>\n",
       "      <td>540</td>\n",
       "    </tr>\n",
       "    <tr>\n",
       "      <th>8</th>\n",
       "      <td>20/5/2022</td>\n",
       "      <td>31/5/2022</td>\n",
       "      <td>Warm - CRSL</td>\n",
       "      <td>431.14</td>\n",
       "      <td>14</td>\n",
       "      <td>actions:offsite_conversion.fb_pixel_purchase</td>\n",
       "      <td>30.795714</td>\n",
       "      <td>43008</td>\n",
       "      <td>208699</td>\n",
       "      <td>4.852562</td>\n",
       "      <td>2.065846</td>\n",
       "      <td>0.688722</td>\n",
       "      <td>0.728322</td>\n",
       "      <td>626</td>\n",
       "      <td>357</td>\n",
       "    </tr>\n",
       "    <tr>\n",
       "      <th>9</th>\n",
       "      <td>20/5/2022</td>\n",
       "      <td>31/5/2022</td>\n",
       "      <td>Warm - Videos</td>\n",
       "      <td>430.95</td>\n",
       "      <td>6</td>\n",
       "      <td>actions:offsite_conversion.fb_pixel_purchase</td>\n",
       "      <td>71.825000</td>\n",
       "      <td>21456</td>\n",
       "      <td>115344</td>\n",
       "      <td>5.375839</td>\n",
       "      <td>3.736215</td>\n",
       "      <td>0.543443</td>\n",
       "      <td>1.377618</td>\n",
       "      <td>793</td>\n",
       "      <td>185</td>\n",
       "    </tr>\n",
       "    <tr>\n",
       "      <th>10</th>\n",
       "      <td>20/5/2022</td>\n",
       "      <td>31/5/2022</td>\n",
       "      <td>HOT - Last day</td>\n",
       "      <td>62.19</td>\n",
       "      <td>1</td>\n",
       "      <td>actions:offsite_conversion.fb_pixel_purchase</td>\n",
       "      <td>62.190000</td>\n",
       "      <td>5774</td>\n",
       "      <td>11973</td>\n",
       "      <td>2.073606</td>\n",
       "      <td>5.194187</td>\n",
       "      <td>1.351957</td>\n",
       "      <td>0.943790</td>\n",
       "      <td>46</td>\n",
       "      <td>27</td>\n",
       "    </tr>\n",
       "    <tr>\n",
       "      <th>11</th>\n",
       "      <td>20/5/2022</td>\n",
       "      <td>31/5/2022</td>\n",
       "      <td>HOT - Last chance &amp; crsl</td>\n",
       "      <td>634.62</td>\n",
       "      <td>20</td>\n",
       "      <td>actions:offsite_conversion.fb_pixel_purchase</td>\n",
       "      <td>31.731000</td>\n",
       "      <td>16536</td>\n",
       "      <td>120670</td>\n",
       "      <td>7.297412</td>\n",
       "      <td>5.259136</td>\n",
       "      <td>1.047228</td>\n",
       "      <td>1.104666</td>\n",
       "      <td>606</td>\n",
       "      <td>395</td>\n",
       "    </tr>\n",
       "    <tr>\n",
       "      <th>12</th>\n",
       "      <td>20/5/2022</td>\n",
       "      <td>31/5/2022</td>\n",
       "      <td>HOT - Discount</td>\n",
       "      <td>226.34</td>\n",
       "      <td>10</td>\n",
       "      <td>actions:offsite_conversion.fb_pixel_purchase</td>\n",
       "      <td>22.634000</td>\n",
       "      <td>11277</td>\n",
       "      <td>44026</td>\n",
       "      <td>3.904052</td>\n",
       "      <td>5.141053</td>\n",
       "      <td>1.185026</td>\n",
       "      <td>1.053923</td>\n",
       "      <td>191</td>\n",
       "      <td>114</td>\n",
       "    </tr>\n",
       "  </tbody>\n",
       "</table>\n",
       "</div>"
      ],
      "text/plain": [
       "   Reporting Starts Reporting Ends                  Ad Set Name  Amount Spent  \\\n",
       "0         20/5/2022      31/5/2022  T1 - Cold - LLA - Promo May        332.65   \n",
       "1         20/5/2022      31/5/2022   T1 - Cold - DT - Promo May        915.00   \n",
       "2         20/5/2022      31/5/2022  T2 - Cold - LLA - Promo May        327.77   \n",
       "4         20/5/2022      31/5/2022  T3 - Cold - LLA - Promo May        291.45   \n",
       "6         20/5/2022      31/5/2022   T4 - Cold - DT - Promo May         91.02   \n",
       "7         20/5/2022      31/5/2022  T4 - Cold - LLA - Promo May        272.38   \n",
       "8         20/5/2022      31/5/2022                  Warm - CRSL        431.14   \n",
       "9         20/5/2022      31/5/2022                Warm - Videos        430.95   \n",
       "10        20/5/2022      31/5/2022               HOT - Last day         62.19   \n",
       "11        20/5/2022      31/5/2022     HOT - Last chance & crsl        634.62   \n",
       "12        20/5/2022      31/5/2022               HOT - Discount        226.34   \n",
       "\n",
       "    Results                              Result indicator         CPR   Reach  \\\n",
       "0         2  actions:offsite_conversion.fb_pixel_purchase  166.325000    6032   \n",
       "1        15  actions:offsite_conversion.fb_pixel_purchase   61.000000   18900   \n",
       "2         4  actions:offsite_conversion.fb_pixel_purchase   81.942500   34743   \n",
       "4         4  actions:offsite_conversion.fb_pixel_purchase   72.862500   69040   \n",
       "6         2  actions:offsite_conversion.fb_pixel_purchase   45.510000   44784   \n",
       "7         5  actions:offsite_conversion.fb_pixel_purchase   54.476000  109535   \n",
       "8        14  actions:offsite_conversion.fb_pixel_purchase   30.795714   43008   \n",
       "9         6  actions:offsite_conversion.fb_pixel_purchase   71.825000   21456   \n",
       "10        1  actions:offsite_conversion.fb_pixel_purchase   62.190000    5774   \n",
       "11       20  actions:offsite_conversion.fb_pixel_purchase   31.731000   16536   \n",
       "12       10  actions:offsite_conversion.fb_pixel_purchase   22.634000   11277   \n",
       "\n",
       "    Impressions  Frequency        CPM       CPC  CTR (all)  Link Clicks  \\\n",
       "0         12594   2.087865  26.413371  2.294138   2.207400          145   \n",
       "1         42510   2.249206  21.524347  2.636888   1.587862          347   \n",
       "2         61268   1.763463   5.349775  0.947312   1.237187          346   \n",
       "4        147600   2.137891   1.974594  0.464092   1.115854          628   \n",
       "6         65515   1.462911   1.389300  0.238272   1.340151          382   \n",
       "7        201309   1.837851   1.353044  0.298662   0.997968          912   \n",
       "8        208699   4.852562   2.065846  0.688722   0.728322          626   \n",
       "9        115344   5.375839   3.736215  0.543443   1.377618          793   \n",
       "10        11973   2.073606   5.194187  1.351957   0.943790           46   \n",
       "11       120670   7.297412   5.259136  1.047228   1.104666          606   \n",
       "12        44026   3.904052   5.141053  1.185026   1.053923          191   \n",
       "\n",
       "    Landing Page Views  \n",
       "0                   89  \n",
       "1                  215  \n",
       "2                  220  \n",
       "4                  372  \n",
       "6                  169  \n",
       "7                  540  \n",
       "8                  357  \n",
       "9                  185  \n",
       "10                  27  \n",
       "11                 395  \n",
       "12                 114  "
      ]
     },
     "execution_count": 12,
     "metadata": {},
     "output_type": "execute_result"
    }
   ],
   "source": [
    "df_not_zero = df[df['Results'] != 0]\n",
    "df_not_zero"
   ]
  },
  {
   "cell_type": "code",
   "execution_count": 13,
   "id": "5df1d5f6",
   "metadata": {},
   "outputs": [
    {
     "data": {
      "text/plain": [
       "63.75379220779221"
      ]
     },
     "execution_count": 13,
     "metadata": {},
     "output_type": "execute_result"
    }
   ],
   "source": [
    "(df_not_zero['Amount Spent'] / df_not_zero['Results']).mean()"
   ]
  },
  {
   "cell_type": "code",
   "execution_count": 14,
   "id": "6ed93990",
   "metadata": {},
   "outputs": [
    {
     "data": {
      "text/plain": [
       "array(['T1 - Cold - LLA - Promo May', 'T1 - Cold - DT - Promo May',\n",
       "       'T2 - Cold - LLA - Promo May', 'T2 - Cold - DT - Promo May',\n",
       "       'T3 - Cold - LLA - Promo May', 'T3 - Cold - DT - Promo May',\n",
       "       'T4 - Cold - DT - Promo May', 'T4 - Cold - LLA - Promo May',\n",
       "       'Warm - CRSL', 'Warm - Videos', 'HOT - Last day',\n",
       "       'HOT - Last chance & crsl', 'HOT - Discount'], dtype=object)"
      ]
     },
     "execution_count": 14,
     "metadata": {},
     "output_type": "execute_result"
    }
   ],
   "source": [
    "df['Ad Set Name'].unique()"
   ]
  },
  {
   "cell_type": "markdown",
   "id": "72046371",
   "metadata": {},
   "source": [
    "## Hot \n",
    "refers to a group of people who have the highest level of familarity with the brand ."
   ]
  },
  {
   "cell_type": "markdown",
   "id": "568c8b4b",
   "metadata": {},
   "source": [
    "## Warm \n",
    "refers to a group of people who are somewhat familiar with the brand ."
   ]
  },
  {
   "cell_type": "markdown",
   "id": "fcc37c55",
   "metadata": {},
   "source": [
    "## Cold \n",
    "refers to people who have little or no interaction with 365DataScience brand ."
   ]
  },
  {
   "cell_type": "code",
   "execution_count": 15,
   "id": "58958dfe",
   "metadata": {},
   "outputs": [
    {
     "data": {
      "text/plain": [
       "0     Cold\n",
       "1     Cold\n",
       "2     Cold\n",
       "3     Cold\n",
       "4     Cold\n",
       "5     Cold\n",
       "6     Cold\n",
       "7     Cold\n",
       "8     Warm\n",
       "9     Warm\n",
       "10     Hot\n",
       "11     Hot\n",
       "12     Hot\n",
       "Name: Category, dtype: object"
      ]
     },
     "execution_count": 15,
     "metadata": {},
     "output_type": "execute_result"
    }
   ],
   "source": [
    "def categorize_ad_set(ad_set_name):\n",
    "    if 'Warm' in ad_set_name:\n",
    "        return 'Warm'\n",
    "    elif 'HOT' in ad_set_name:\n",
    "        return 'Hot'\n",
    "    else:\n",
    "        return 'Cold'\n",
    "    \n",
    "df['Category'] = df['Ad Set Name'].apply(categorize_ad_set)    \n",
    "df['Category']"
   ]
  },
  {
   "cell_type": "code",
   "execution_count": 16,
   "id": "92abdff2",
   "metadata": {},
   "outputs": [
    {
     "data": {
      "text/html": [
       "<div>\n",
       "<style scoped>\n",
       "    .dataframe tbody tr th:only-of-type {\n",
       "        vertical-align: middle;\n",
       "    }\n",
       "\n",
       "    .dataframe tbody tr th {\n",
       "        vertical-align: top;\n",
       "    }\n",
       "\n",
       "    .dataframe thead th {\n",
       "        text-align: right;\n",
       "    }\n",
       "</style>\n",
       "<table border=\"1\" class=\"dataframe\">\n",
       "  <thead>\n",
       "    <tr style=\"text-align: right;\">\n",
       "      <th></th>\n",
       "      <th>Reporting Starts</th>\n",
       "      <th>Reporting Ends</th>\n",
       "      <th>Ad Set Name</th>\n",
       "      <th>Amount Spent</th>\n",
       "      <th>Results</th>\n",
       "      <th>Result indicator</th>\n",
       "      <th>CPR</th>\n",
       "      <th>Reach</th>\n",
       "      <th>Impressions</th>\n",
       "      <th>Frequency</th>\n",
       "      <th>CPM</th>\n",
       "      <th>CPC</th>\n",
       "      <th>CTR (all)</th>\n",
       "      <th>Link Clicks</th>\n",
       "      <th>Landing Page Views</th>\n",
       "      <th>Category</th>\n",
       "    </tr>\n",
       "  </thead>\n",
       "  <tbody>\n",
       "    <tr>\n",
       "      <th>9</th>\n",
       "      <td>20/5/2022</td>\n",
       "      <td>31/5/2022</td>\n",
       "      <td>Warm - Videos</td>\n",
       "      <td>430.95</td>\n",
       "      <td>6</td>\n",
       "      <td>actions:offsite_conversion.fb_pixel_purchase</td>\n",
       "      <td>71.825</td>\n",
       "      <td>21456</td>\n",
       "      <td>115344</td>\n",
       "      <td>5.375839</td>\n",
       "      <td>3.736215</td>\n",
       "      <td>0.543443</td>\n",
       "      <td>1.377618</td>\n",
       "      <td>793</td>\n",
       "      <td>185</td>\n",
       "      <td>Warm</td>\n",
       "    </tr>\n",
       "    <tr>\n",
       "      <th>10</th>\n",
       "      <td>20/5/2022</td>\n",
       "      <td>31/5/2022</td>\n",
       "      <td>HOT - Last day</td>\n",
       "      <td>62.19</td>\n",
       "      <td>1</td>\n",
       "      <td>actions:offsite_conversion.fb_pixel_purchase</td>\n",
       "      <td>62.190</td>\n",
       "      <td>5774</td>\n",
       "      <td>11973</td>\n",
       "      <td>2.073606</td>\n",
       "      <td>5.194187</td>\n",
       "      <td>1.351957</td>\n",
       "      <td>0.943790</td>\n",
       "      <td>46</td>\n",
       "      <td>27</td>\n",
       "      <td>Hot</td>\n",
       "    </tr>\n",
       "    <tr>\n",
       "      <th>11</th>\n",
       "      <td>20/5/2022</td>\n",
       "      <td>31/5/2022</td>\n",
       "      <td>HOT - Last chance &amp; crsl</td>\n",
       "      <td>634.62</td>\n",
       "      <td>20</td>\n",
       "      <td>actions:offsite_conversion.fb_pixel_purchase</td>\n",
       "      <td>31.731</td>\n",
       "      <td>16536</td>\n",
       "      <td>120670</td>\n",
       "      <td>7.297412</td>\n",
       "      <td>5.259136</td>\n",
       "      <td>1.047228</td>\n",
       "      <td>1.104666</td>\n",
       "      <td>606</td>\n",
       "      <td>395</td>\n",
       "      <td>Hot</td>\n",
       "    </tr>\n",
       "    <tr>\n",
       "      <th>12</th>\n",
       "      <td>20/5/2022</td>\n",
       "      <td>31/5/2022</td>\n",
       "      <td>HOT - Discount</td>\n",
       "      <td>226.34</td>\n",
       "      <td>10</td>\n",
       "      <td>actions:offsite_conversion.fb_pixel_purchase</td>\n",
       "      <td>22.634</td>\n",
       "      <td>11277</td>\n",
       "      <td>44026</td>\n",
       "      <td>3.904052</td>\n",
       "      <td>5.141053</td>\n",
       "      <td>1.185026</td>\n",
       "      <td>1.053923</td>\n",
       "      <td>191</td>\n",
       "      <td>114</td>\n",
       "      <td>Hot</td>\n",
       "    </tr>\n",
       "  </tbody>\n",
       "</table>\n",
       "</div>"
      ],
      "text/plain": [
       "   Reporting Starts Reporting Ends               Ad Set Name  Amount Spent  \\\n",
       "9         20/5/2022      31/5/2022             Warm - Videos        430.95   \n",
       "10        20/5/2022      31/5/2022            HOT - Last day         62.19   \n",
       "11        20/5/2022      31/5/2022  HOT - Last chance & crsl        634.62   \n",
       "12        20/5/2022      31/5/2022            HOT - Discount        226.34   \n",
       "\n",
       "    Results                              Result indicator     CPR  Reach  \\\n",
       "9         6  actions:offsite_conversion.fb_pixel_purchase  71.825  21456   \n",
       "10        1  actions:offsite_conversion.fb_pixel_purchase  62.190   5774   \n",
       "11       20  actions:offsite_conversion.fb_pixel_purchase  31.731  16536   \n",
       "12       10  actions:offsite_conversion.fb_pixel_purchase  22.634  11277   \n",
       "\n",
       "    Impressions  Frequency       CPM       CPC  CTR (all)  Link Clicks  \\\n",
       "9        115344   5.375839  3.736215  0.543443   1.377618          793   \n",
       "10        11973   2.073606  5.194187  1.351957   0.943790           46   \n",
       "11       120670   7.297412  5.259136  1.047228   1.104666          606   \n",
       "12        44026   3.904052  5.141053  1.185026   1.053923          191   \n",
       "\n",
       "    Landing Page Views Category  \n",
       "9                  185     Warm  \n",
       "10                  27      Hot  \n",
       "11                 395      Hot  \n",
       "12                 114      Hot  "
      ]
     },
     "execution_count": 16,
     "metadata": {},
     "output_type": "execute_result"
    }
   ],
   "source": [
    "df.tail(4)"
   ]
  },
  {
   "cell_type": "code",
   "execution_count": 17,
   "id": "11b54e10",
   "metadata": {},
   "outputs": [
    {
     "data": {
      "text/html": [
       "<div>\n",
       "<style scoped>\n",
       "    .dataframe tbody tr th:only-of-type {\n",
       "        vertical-align: middle;\n",
       "    }\n",
       "\n",
       "    .dataframe tbody tr th {\n",
       "        vertical-align: top;\n",
       "    }\n",
       "\n",
       "    .dataframe thead th {\n",
       "        text-align: right;\n",
       "    }\n",
       "</style>\n",
       "<table border=\"1\" class=\"dataframe\">\n",
       "  <thead>\n",
       "    <tr style=\"text-align: right;\">\n",
       "      <th></th>\n",
       "      <th>Reach</th>\n",
       "      <th>Impressions</th>\n",
       "      <th>CTR (all)</th>\n",
       "      <th>CPR</th>\n",
       "      <th>Results</th>\n",
       "    </tr>\n",
       "    <tr>\n",
       "      <th>Category</th>\n",
       "      <th></th>\n",
       "      <th></th>\n",
       "      <th></th>\n",
       "      <th></th>\n",
       "      <th></th>\n",
       "    </tr>\n",
       "  </thead>\n",
       "  <tbody>\n",
       "    <tr>\n",
       "      <th>Cold</th>\n",
       "      <td>44435.375000</td>\n",
       "      <td>79417.500000</td>\n",
       "      <td>1.370799</td>\n",
       "      <td>80.352667</td>\n",
       "      <td>4.000000</td>\n",
       "    </tr>\n",
       "    <tr>\n",
       "      <th>Hot</th>\n",
       "      <td>11195.666667</td>\n",
       "      <td>58889.666667</td>\n",
       "      <td>1.034126</td>\n",
       "      <td>38.851667</td>\n",
       "      <td>10.333333</td>\n",
       "    </tr>\n",
       "    <tr>\n",
       "      <th>Warm</th>\n",
       "      <td>32232.000000</td>\n",
       "      <td>162021.500000</td>\n",
       "      <td>1.052970</td>\n",
       "      <td>51.310357</td>\n",
       "      <td>10.000000</td>\n",
       "    </tr>\n",
       "  </tbody>\n",
       "</table>\n",
       "</div>"
      ],
      "text/plain": [
       "                 Reach    Impressions  CTR (all)        CPR    Results\n",
       "Category                                                              \n",
       "Cold      44435.375000   79417.500000   1.370799  80.352667   4.000000\n",
       "Hot       11195.666667   58889.666667   1.034126  38.851667  10.333333\n",
       "Warm      32232.000000  162021.500000   1.052970  51.310357  10.000000"
      ]
     },
     "execution_count": 17,
     "metadata": {},
     "output_type": "execute_result"
    }
   ],
   "source": [
    "results= df.groupby('Category').agg({'Reach': 'mean',\n",
    "                                   'Impressions': 'mean',\n",
    "                                   'CTR (all)':'mean',\n",
    "                                   'CPR':'mean',\n",
    "                                   'Results':'mean'})\n",
    "results"
   ]
  },
  {
   "cell_type": "markdown",
   "id": "da71e08e",
   "metadata": {},
   "source": [
    "## Lookalike Audience vs Detailed Targeting"
   ]
  },
  {
   "cell_type": "code",
   "execution_count": 18,
   "id": "df15d0d1",
   "metadata": {},
   "outputs": [
    {
     "data": {
      "text/plain": [
       "array(['T1 - Cold - LLA - Promo May', 'T1 - Cold - DT - Promo May',\n",
       "       'T2 - Cold - LLA - Promo May', 'T2 - Cold - DT - Promo May',\n",
       "       'T3 - Cold - LLA - Promo May', 'T3 - Cold - DT - Promo May',\n",
       "       'T4 - Cold - DT - Promo May', 'T4 - Cold - LLA - Promo May',\n",
       "       'Warm - CRSL', 'Warm - Videos', 'HOT - Last day',\n",
       "       'HOT - Last chance & crsl', 'HOT - Discount'], dtype=object)"
      ]
     },
     "execution_count": 18,
     "metadata": {},
     "output_type": "execute_result"
    }
   ],
   "source": [
    "df['Ad Set Name'].unique()"
   ]
  },
  {
   "cell_type": "markdown",
   "id": "0053d234",
   "metadata": {},
   "source": [
    "## Lookalike Audience\n",
    "people who are similar to the company's existing customers"
   ]
  },
  {
   "cell_type": "markdown",
   "id": "7ccdcbf6",
   "metadata": {},
   "source": [
    "## Detailed Targeting \n",
    "the core audience that are created by targeting facebook users based on demographics and interests ."
   ]
  },
  {
   "cell_type": "code",
   "execution_count": 19,
   "id": "7548a2e9",
   "metadata": {},
   "outputs": [
    {
     "data": {
      "text/plain": [
       "0    Lookalike Audience\n",
       "1    Detailed Targeting\n",
       "2    Lookalike Audience\n",
       "3    Detailed Targeting\n",
       "4    Lookalike Audience\n",
       "Name: Subcategory, dtype: object"
      ]
     },
     "execution_count": 19,
     "metadata": {},
     "output_type": "execute_result"
    }
   ],
   "source": [
    "def categorize_ad_set_2(ad_set_name):\n",
    "    if 'DT' in ad_set_name:\n",
    "        return 'Detailed Targeting'\n",
    "    elif 'LLA' in ad_set_name:\n",
    "        return 'Lookalike Audience'\n",
    "    else:\n",
    "        return 'Other'\n",
    "    \n",
    "df['Subcategory'] = df['Ad Set Name'].apply(categorize_ad_set_2)    \n",
    "df['Subcategory'].head()"
   ]
  },
  {
   "cell_type": "code",
   "execution_count": 20,
   "id": "a5cb371e",
   "metadata": {},
   "outputs": [
    {
     "data": {
      "text/plain": [
       "0     Lookalike Audience\n",
       "6     Detailed Targeting\n",
       "2     Lookalike Audience\n",
       "8                  Other\n",
       "12                 Other\n",
       "Name: Subcategory, dtype: object"
      ]
     },
     "execution_count": 20,
     "metadata": {},
     "output_type": "execute_result"
    }
   ],
   "source": [
    "df['Subcategory'].sample(5)"
   ]
  },
  {
   "cell_type": "code",
   "execution_count": 21,
   "id": "87821052",
   "metadata": {},
   "outputs": [
    {
     "data": {
      "text/html": [
       "<div>\n",
       "<style scoped>\n",
       "    .dataframe tbody tr th:only-of-type {\n",
       "        vertical-align: middle;\n",
       "    }\n",
       "\n",
       "    .dataframe tbody tr th {\n",
       "        vertical-align: top;\n",
       "    }\n",
       "\n",
       "    .dataframe thead th {\n",
       "        text-align: right;\n",
       "    }\n",
       "</style>\n",
       "<table border=\"1\" class=\"dataframe\">\n",
       "  <thead>\n",
       "    <tr style=\"text-align: right;\">\n",
       "      <th></th>\n",
       "      <th>Reporting Starts</th>\n",
       "      <th>Reporting Ends</th>\n",
       "      <th>Ad Set Name</th>\n",
       "      <th>Amount Spent</th>\n",
       "      <th>Results</th>\n",
       "      <th>Result indicator</th>\n",
       "      <th>CPR</th>\n",
       "      <th>Reach</th>\n",
       "      <th>Impressions</th>\n",
       "      <th>Frequency</th>\n",
       "      <th>CPM</th>\n",
       "      <th>CPC</th>\n",
       "      <th>CTR (all)</th>\n",
       "      <th>Link Clicks</th>\n",
       "      <th>Landing Page Views</th>\n",
       "      <th>Category</th>\n",
       "      <th>Subcategory</th>\n",
       "    </tr>\n",
       "  </thead>\n",
       "  <tbody>\n",
       "    <tr>\n",
       "      <th>0</th>\n",
       "      <td>20/5/2022</td>\n",
       "      <td>31/5/2022</td>\n",
       "      <td>T1 - Cold - LLA - Promo May</td>\n",
       "      <td>332.65</td>\n",
       "      <td>2</td>\n",
       "      <td>actions:offsite_conversion.fb_pixel_purchase</td>\n",
       "      <td>166.3250</td>\n",
       "      <td>6032</td>\n",
       "      <td>12594</td>\n",
       "      <td>2.087865</td>\n",
       "      <td>26.413371</td>\n",
       "      <td>2.294138</td>\n",
       "      <td>2.207400</td>\n",
       "      <td>145</td>\n",
       "      <td>89</td>\n",
       "      <td>Cold</td>\n",
       "      <td>Lookalike Audience</td>\n",
       "    </tr>\n",
       "    <tr>\n",
       "      <th>1</th>\n",
       "      <td>20/5/2022</td>\n",
       "      <td>31/5/2022</td>\n",
       "      <td>T1 - Cold - DT - Promo May</td>\n",
       "      <td>915.00</td>\n",
       "      <td>15</td>\n",
       "      <td>actions:offsite_conversion.fb_pixel_purchase</td>\n",
       "      <td>61.0000</td>\n",
       "      <td>18900</td>\n",
       "      <td>42510</td>\n",
       "      <td>2.249206</td>\n",
       "      <td>21.524347</td>\n",
       "      <td>2.636888</td>\n",
       "      <td>1.587862</td>\n",
       "      <td>347</td>\n",
       "      <td>215</td>\n",
       "      <td>Cold</td>\n",
       "      <td>Detailed Targeting</td>\n",
       "    </tr>\n",
       "    <tr>\n",
       "      <th>2</th>\n",
       "      <td>20/5/2022</td>\n",
       "      <td>31/5/2022</td>\n",
       "      <td>T2 - Cold - LLA - Promo May</td>\n",
       "      <td>327.77</td>\n",
       "      <td>4</td>\n",
       "      <td>actions:offsite_conversion.fb_pixel_purchase</td>\n",
       "      <td>81.9425</td>\n",
       "      <td>34743</td>\n",
       "      <td>61268</td>\n",
       "      <td>1.763463</td>\n",
       "      <td>5.349775</td>\n",
       "      <td>0.947312</td>\n",
       "      <td>1.237187</td>\n",
       "      <td>346</td>\n",
       "      <td>220</td>\n",
       "      <td>Cold</td>\n",
       "      <td>Lookalike Audience</td>\n",
       "    </tr>\n",
       "    <tr>\n",
       "      <th>3</th>\n",
       "      <td>20/5/2022</td>\n",
       "      <td>31/5/2022</td>\n",
       "      <td>T2 - Cold - DT - Promo May</td>\n",
       "      <td>297.38</td>\n",
       "      <td>0</td>\n",
       "      <td>NaN</td>\n",
       "      <td>NaN</td>\n",
       "      <td>45001</td>\n",
       "      <td>65880</td>\n",
       "      <td>1.463967</td>\n",
       "      <td>4.513965</td>\n",
       "      <td>0.788806</td>\n",
       "      <td>1.220401</td>\n",
       "      <td>377</td>\n",
       "      <td>225</td>\n",
       "      <td>Cold</td>\n",
       "      <td>Detailed Targeting</td>\n",
       "    </tr>\n",
       "    <tr>\n",
       "      <th>4</th>\n",
       "      <td>20/5/2022</td>\n",
       "      <td>31/5/2022</td>\n",
       "      <td>T3 - Cold - LLA - Promo May</td>\n",
       "      <td>291.45</td>\n",
       "      <td>4</td>\n",
       "      <td>actions:offsite_conversion.fb_pixel_purchase</td>\n",
       "      <td>72.8625</td>\n",
       "      <td>69040</td>\n",
       "      <td>147600</td>\n",
       "      <td>2.137891</td>\n",
       "      <td>1.974594</td>\n",
       "      <td>0.464092</td>\n",
       "      <td>1.115854</td>\n",
       "      <td>628</td>\n",
       "      <td>372</td>\n",
       "      <td>Cold</td>\n",
       "      <td>Lookalike Audience</td>\n",
       "    </tr>\n",
       "    <tr>\n",
       "      <th>5</th>\n",
       "      <td>20/5/2022</td>\n",
       "      <td>31/5/2022</td>\n",
       "      <td>T3 - Cold - DT - Promo May</td>\n",
       "      <td>49.23</td>\n",
       "      <td>0</td>\n",
       "      <td>NaN</td>\n",
       "      <td>NaN</td>\n",
       "      <td>27448</td>\n",
       "      <td>38664</td>\n",
       "      <td>1.408627</td>\n",
       "      <td>1.273277</td>\n",
       "      <td>0.259105</td>\n",
       "      <td>1.259570</td>\n",
       "      <td>190</td>\n",
       "      <td>77</td>\n",
       "      <td>Cold</td>\n",
       "      <td>Detailed Targeting</td>\n",
       "    </tr>\n",
       "    <tr>\n",
       "      <th>6</th>\n",
       "      <td>20/5/2022</td>\n",
       "      <td>31/5/2022</td>\n",
       "      <td>T4 - Cold - DT - Promo May</td>\n",
       "      <td>91.02</td>\n",
       "      <td>2</td>\n",
       "      <td>actions:offsite_conversion.fb_pixel_purchase</td>\n",
       "      <td>45.5100</td>\n",
       "      <td>44784</td>\n",
       "      <td>65515</td>\n",
       "      <td>1.462911</td>\n",
       "      <td>1.389300</td>\n",
       "      <td>0.238272</td>\n",
       "      <td>1.340151</td>\n",
       "      <td>382</td>\n",
       "      <td>169</td>\n",
       "      <td>Cold</td>\n",
       "      <td>Detailed Targeting</td>\n",
       "    </tr>\n",
       "    <tr>\n",
       "      <th>7</th>\n",
       "      <td>20/5/2022</td>\n",
       "      <td>31/5/2022</td>\n",
       "      <td>T4 - Cold - LLA - Promo May</td>\n",
       "      <td>272.38</td>\n",
       "      <td>5</td>\n",
       "      <td>actions:offsite_conversion.fb_pixel_purchase</td>\n",
       "      <td>54.4760</td>\n",
       "      <td>109535</td>\n",
       "      <td>201309</td>\n",
       "      <td>1.837851</td>\n",
       "      <td>1.353044</td>\n",
       "      <td>0.298662</td>\n",
       "      <td>0.997968</td>\n",
       "      <td>912</td>\n",
       "      <td>540</td>\n",
       "      <td>Cold</td>\n",
       "      <td>Lookalike Audience</td>\n",
       "    </tr>\n",
       "  </tbody>\n",
       "</table>\n",
       "</div>"
      ],
      "text/plain": [
       "  Reporting Starts Reporting Ends                  Ad Set Name  Amount Spent  \\\n",
       "0        20/5/2022      31/5/2022  T1 - Cold - LLA - Promo May        332.65   \n",
       "1        20/5/2022      31/5/2022   T1 - Cold - DT - Promo May        915.00   \n",
       "2        20/5/2022      31/5/2022  T2 - Cold - LLA - Promo May        327.77   \n",
       "3        20/5/2022      31/5/2022   T2 - Cold - DT - Promo May        297.38   \n",
       "4        20/5/2022      31/5/2022  T3 - Cold - LLA - Promo May        291.45   \n",
       "5        20/5/2022      31/5/2022   T3 - Cold - DT - Promo May         49.23   \n",
       "6        20/5/2022      31/5/2022   T4 - Cold - DT - Promo May         91.02   \n",
       "7        20/5/2022      31/5/2022  T4 - Cold - LLA - Promo May        272.38   \n",
       "\n",
       "   Results                              Result indicator       CPR   Reach  \\\n",
       "0        2  actions:offsite_conversion.fb_pixel_purchase  166.3250    6032   \n",
       "1       15  actions:offsite_conversion.fb_pixel_purchase   61.0000   18900   \n",
       "2        4  actions:offsite_conversion.fb_pixel_purchase   81.9425   34743   \n",
       "3        0                                           NaN       NaN   45001   \n",
       "4        4  actions:offsite_conversion.fb_pixel_purchase   72.8625   69040   \n",
       "5        0                                           NaN       NaN   27448   \n",
       "6        2  actions:offsite_conversion.fb_pixel_purchase   45.5100   44784   \n",
       "7        5  actions:offsite_conversion.fb_pixel_purchase   54.4760  109535   \n",
       "\n",
       "   Impressions  Frequency        CPM       CPC  CTR (all)  Link Clicks  \\\n",
       "0        12594   2.087865  26.413371  2.294138   2.207400          145   \n",
       "1        42510   2.249206  21.524347  2.636888   1.587862          347   \n",
       "2        61268   1.763463   5.349775  0.947312   1.237187          346   \n",
       "3        65880   1.463967   4.513965  0.788806   1.220401          377   \n",
       "4       147600   2.137891   1.974594  0.464092   1.115854          628   \n",
       "5        38664   1.408627   1.273277  0.259105   1.259570          190   \n",
       "6        65515   1.462911   1.389300  0.238272   1.340151          382   \n",
       "7       201309   1.837851   1.353044  0.298662   0.997968          912   \n",
       "\n",
       "   Landing Page Views Category         Subcategory  \n",
       "0                  89     Cold  Lookalike Audience  \n",
       "1                 215     Cold  Detailed Targeting  \n",
       "2                 220     Cold  Lookalike Audience  \n",
       "3                 225     Cold  Detailed Targeting  \n",
       "4                 372     Cold  Lookalike Audience  \n",
       "5                  77     Cold  Detailed Targeting  \n",
       "6                 169     Cold  Detailed Targeting  \n",
       "7                 540     Cold  Lookalike Audience  "
      ]
     },
     "execution_count": 21,
     "metadata": {},
     "output_type": "execute_result"
    }
   ],
   "source": [
    "df_cold = df[df['Category'] == 'Cold']\n",
    "df_cold"
   ]
  },
  {
   "cell_type": "code",
   "execution_count": 22,
   "id": "5b30b6fb",
   "metadata": {},
   "outputs": [
    {
     "data": {
      "text/html": [
       "<div>\n",
       "<style scoped>\n",
       "    .dataframe tbody tr th:only-of-type {\n",
       "        vertical-align: middle;\n",
       "    }\n",
       "\n",
       "    .dataframe tbody tr th {\n",
       "        vertical-align: top;\n",
       "    }\n",
       "\n",
       "    .dataframe thead th {\n",
       "        text-align: right;\n",
       "    }\n",
       "</style>\n",
       "<table border=\"1\" class=\"dataframe\">\n",
       "  <thead>\n",
       "    <tr style=\"text-align: right;\">\n",
       "      <th></th>\n",
       "      <th>Reach</th>\n",
       "      <th>Impressions</th>\n",
       "      <th>CTR (all)</th>\n",
       "      <th>CPR</th>\n",
       "      <th>Results</th>\n",
       "    </tr>\n",
       "    <tr>\n",
       "      <th>Subcategory</th>\n",
       "      <th></th>\n",
       "      <th></th>\n",
       "      <th></th>\n",
       "      <th></th>\n",
       "      <th></th>\n",
       "    </tr>\n",
       "  </thead>\n",
       "  <tbody>\n",
       "    <tr>\n",
       "      <th>Detailed Targeting</th>\n",
       "      <td>34033.25</td>\n",
       "      <td>53142.25</td>\n",
       "      <td>1.351996</td>\n",
       "      <td>53.2550</td>\n",
       "      <td>4.25</td>\n",
       "    </tr>\n",
       "    <tr>\n",
       "      <th>Lookalike Audience</th>\n",
       "      <td>54837.50</td>\n",
       "      <td>105692.75</td>\n",
       "      <td>1.389602</td>\n",
       "      <td>93.9015</td>\n",
       "      <td>3.75</td>\n",
       "    </tr>\n",
       "  </tbody>\n",
       "</table>\n",
       "</div>"
      ],
      "text/plain": [
       "                       Reach  Impressions  CTR (all)      CPR  Results\n",
       "Subcategory                                                           \n",
       "Detailed Targeting  34033.25     53142.25   1.351996  53.2550     4.25\n",
       "Lookalike Audience  54837.50    105692.75   1.389602  93.9015     3.75"
      ]
     },
     "execution_count": 22,
     "metadata": {},
     "output_type": "execute_result"
    }
   ],
   "source": [
    "df_cold= df_cold.groupby('Subcategory').agg({'Reach': 'mean',\n",
    "                                   'Impressions': 'mean',\n",
    "                                   'CTR (all)':'mean',\n",
    "                                   'CPR':'mean',\n",
    "                                   'Results':'mean'})\n",
    "df_cold"
   ]
  },
  {
   "cell_type": "code",
   "execution_count": 23,
   "id": "43b7c088",
   "metadata": {},
   "outputs": [],
   "source": [
    "import seaborn as sns\n",
    "import matplotlib.pyplot as plt"
   ]
  },
  {
   "cell_type": "code",
   "execution_count": 24,
   "id": "ea4c1560",
   "metadata": {},
   "outputs": [
    {
     "data": {
      "text/html": [
       "<div>\n",
       "<style scoped>\n",
       "    .dataframe tbody tr th:only-of-type {\n",
       "        vertical-align: middle;\n",
       "    }\n",
       "\n",
       "    .dataframe tbody tr th {\n",
       "        vertical-align: top;\n",
       "    }\n",
       "\n",
       "    .dataframe thead th {\n",
       "        text-align: right;\n",
       "    }\n",
       "</style>\n",
       "<table border=\"1\" class=\"dataframe\">\n",
       "  <thead>\n",
       "    <tr style=\"text-align: right;\">\n",
       "      <th></th>\n",
       "      <th>Subcategory</th>\n",
       "      <th>variable</th>\n",
       "      <th>value</th>\n",
       "    </tr>\n",
       "  </thead>\n",
       "  <tbody>\n",
       "    <tr>\n",
       "      <th>0</th>\n",
       "      <td>Detailed Targeting</td>\n",
       "      <td>Reach</td>\n",
       "      <td>34033.250000</td>\n",
       "    </tr>\n",
       "    <tr>\n",
       "      <th>1</th>\n",
       "      <td>Lookalike Audience</td>\n",
       "      <td>Reach</td>\n",
       "      <td>54837.500000</td>\n",
       "    </tr>\n",
       "    <tr>\n",
       "      <th>2</th>\n",
       "      <td>Detailed Targeting</td>\n",
       "      <td>Impressions</td>\n",
       "      <td>53142.250000</td>\n",
       "    </tr>\n",
       "    <tr>\n",
       "      <th>3</th>\n",
       "      <td>Lookalike Audience</td>\n",
       "      <td>Impressions</td>\n",
       "      <td>105692.750000</td>\n",
       "    </tr>\n",
       "    <tr>\n",
       "      <th>4</th>\n",
       "      <td>Detailed Targeting</td>\n",
       "      <td>CTR (all)</td>\n",
       "      <td>1.351996</td>\n",
       "    </tr>\n",
       "    <tr>\n",
       "      <th>5</th>\n",
       "      <td>Lookalike Audience</td>\n",
       "      <td>CTR (all)</td>\n",
       "      <td>1.389602</td>\n",
       "    </tr>\n",
       "    <tr>\n",
       "      <th>6</th>\n",
       "      <td>Detailed Targeting</td>\n",
       "      <td>CPR</td>\n",
       "      <td>53.255000</td>\n",
       "    </tr>\n",
       "    <tr>\n",
       "      <th>7</th>\n",
       "      <td>Lookalike Audience</td>\n",
       "      <td>CPR</td>\n",
       "      <td>93.901500</td>\n",
       "    </tr>\n",
       "    <tr>\n",
       "      <th>8</th>\n",
       "      <td>Detailed Targeting</td>\n",
       "      <td>Results</td>\n",
       "      <td>4.250000</td>\n",
       "    </tr>\n",
       "    <tr>\n",
       "      <th>9</th>\n",
       "      <td>Lookalike Audience</td>\n",
       "      <td>Results</td>\n",
       "      <td>3.750000</td>\n",
       "    </tr>\n",
       "  </tbody>\n",
       "</table>\n",
       "</div>"
      ],
      "text/plain": [
       "          Subcategory     variable          value\n",
       "0  Detailed Targeting        Reach   34033.250000\n",
       "1  Lookalike Audience        Reach   54837.500000\n",
       "2  Detailed Targeting  Impressions   53142.250000\n",
       "3  Lookalike Audience  Impressions  105692.750000\n",
       "4  Detailed Targeting    CTR (all)       1.351996\n",
       "5  Lookalike Audience    CTR (all)       1.389602\n",
       "6  Detailed Targeting          CPR      53.255000\n",
       "7  Lookalike Audience          CPR      93.901500\n",
       "8  Detailed Targeting      Results       4.250000\n",
       "9  Lookalike Audience      Results       3.750000"
      ]
     },
     "execution_count": 24,
     "metadata": {},
     "output_type": "execute_result"
    }
   ],
   "source": [
    "df_transformed = df_cold.reset_index().melt('Subcategory')\n",
    "\n",
    "df_transformed"
   ]
  },
  {
   "cell_type": "code",
   "execution_count": 25,
   "id": "7fa8d8c4",
   "metadata": {},
   "outputs": [
    {
     "data": {
      "image/png": "[encoded data removed]",
      "text/plain": [
       "<Figure size 1296x576 with 5 Axes>"
      ]
     },
     "metadata": {
      "needs_background": "light"
     },
     "output_type": "display_data"
    }
   ],
   "source": [
    "viz = sns.FacetGrid(df_transformed, col = 'variable',\n",
    "                   col_wrap=3,\n",
    "                   sharex= False,\n",
    "                   sharey = False, # sharex , sharey = False -> each plot have separate axis\n",
    "                   height = 4,\n",
    "                   aspect = 1.5)\n",
    "viz.map(sns.barplot, 'Subcategory','value',\n",
    "        order= df_cold.reset_index()['Subcategory'])\n",
    "\n",
    "plt.show()"
   ]
  },
  {
   "cell_type": "markdown",
   "id": "77076f54",
   "metadata": {},
   "source": [
    "## Detailed Ad Set Analysis"
   ]
  },
  {
   "cell_type": "markdown",
   "id": "b147eb92",
   "metadata": {},
   "source": [
    "### Hot"
   ]
  },
  {
   "cell_type": "code",
   "execution_count": 26,
   "id": "40511e15",
   "metadata": {},
   "outputs": [
    {
     "data": {
      "text/html": [
       "<div>\n",
       "<style scoped>\n",
       "    .dataframe tbody tr th:only-of-type {\n",
       "        vertical-align: middle;\n",
       "    }\n",
       "\n",
       "    .dataframe tbody tr th {\n",
       "        vertical-align: top;\n",
       "    }\n",
       "\n",
       "    .dataframe thead th {\n",
       "        text-align: right;\n",
       "    }\n",
       "</style>\n",
       "<table border=\"1\" class=\"dataframe\">\n",
       "  <thead>\n",
       "    <tr style=\"text-align: right;\">\n",
       "      <th></th>\n",
       "      <th>index</th>\n",
       "      <th>Reporting Starts</th>\n",
       "      <th>Reporting Ends</th>\n",
       "      <th>Ad Set Name</th>\n",
       "      <th>Amount Spent</th>\n",
       "      <th>Results</th>\n",
       "      <th>Result indicator</th>\n",
       "      <th>CPR</th>\n",
       "      <th>Reach</th>\n",
       "      <th>Impressions</th>\n",
       "      <th>Frequency</th>\n",
       "      <th>CPM</th>\n",
       "      <th>CPC</th>\n",
       "      <th>CTR (all)</th>\n",
       "      <th>Link Clicks</th>\n",
       "      <th>Landing Page Views</th>\n",
       "      <th>Category</th>\n",
       "      <th>Subcategory</th>\n",
       "    </tr>\n",
       "  </thead>\n",
       "  <tbody>\n",
       "    <tr>\n",
       "      <th>0</th>\n",
       "      <td>10</td>\n",
       "      <td>20/5/2022</td>\n",
       "      <td>31/5/2022</td>\n",
       "      <td>HOT - Last day</td>\n",
       "      <td>62.19</td>\n",
       "      <td>1</td>\n",
       "      <td>actions:offsite_conversion.fb_pixel_purchase</td>\n",
       "      <td>62.190</td>\n",
       "      <td>5774</td>\n",
       "      <td>11973</td>\n",
       "      <td>2.073606</td>\n",
       "      <td>5.194187</td>\n",
       "      <td>1.351957</td>\n",
       "      <td>0.943790</td>\n",
       "      <td>46</td>\n",
       "      <td>27</td>\n",
       "      <td>Hot</td>\n",
       "      <td>Other</td>\n",
       "    </tr>\n",
       "    <tr>\n",
       "      <th>1</th>\n",
       "      <td>11</td>\n",
       "      <td>20/5/2022</td>\n",
       "      <td>31/5/2022</td>\n",
       "      <td>HOT - Last chance &amp; crsl</td>\n",
       "      <td>634.62</td>\n",
       "      <td>20</td>\n",
       "      <td>actions:offsite_conversion.fb_pixel_purchase</td>\n",
       "      <td>31.731</td>\n",
       "      <td>16536</td>\n",
       "      <td>120670</td>\n",
       "      <td>7.297412</td>\n",
       "      <td>5.259136</td>\n",
       "      <td>1.047228</td>\n",
       "      <td>1.104666</td>\n",
       "      <td>606</td>\n",
       "      <td>395</td>\n",
       "      <td>Hot</td>\n",
       "      <td>Other</td>\n",
       "    </tr>\n",
       "    <tr>\n",
       "      <th>2</th>\n",
       "      <td>12</td>\n",
       "      <td>20/5/2022</td>\n",
       "      <td>31/5/2022</td>\n",
       "      <td>HOT - Discount</td>\n",
       "      <td>226.34</td>\n",
       "      <td>10</td>\n",
       "      <td>actions:offsite_conversion.fb_pixel_purchase</td>\n",
       "      <td>22.634</td>\n",
       "      <td>11277</td>\n",
       "      <td>44026</td>\n",
       "      <td>3.904052</td>\n",
       "      <td>5.141053</td>\n",
       "      <td>1.185026</td>\n",
       "      <td>1.053923</td>\n",
       "      <td>191</td>\n",
       "      <td>114</td>\n",
       "      <td>Hot</td>\n",
       "      <td>Other</td>\n",
       "    </tr>\n",
       "  </tbody>\n",
       "</table>\n",
       "</div>"
      ],
      "text/plain": [
       "   index Reporting Starts Reporting Ends               Ad Set Name  \\\n",
       "0     10        20/5/2022      31/5/2022            HOT - Last day   \n",
       "1     11        20/5/2022      31/5/2022  HOT - Last chance & crsl   \n",
       "2     12        20/5/2022      31/5/2022            HOT - Discount   \n",
       "\n",
       "   Amount Spent  Results                              Result indicator  \\\n",
       "0         62.19        1  actions:offsite_conversion.fb_pixel_purchase   \n",
       "1        634.62       20  actions:offsite_conversion.fb_pixel_purchase   \n",
       "2        226.34       10  actions:offsite_conversion.fb_pixel_purchase   \n",
       "\n",
       "      CPR  Reach  Impressions  Frequency       CPM       CPC  CTR (all)  \\\n",
       "0  62.190   5774        11973   2.073606  5.194187  1.351957   0.943790   \n",
       "1  31.731  16536       120670   7.297412  5.259136  1.047228   1.104666   \n",
       "2  22.634  11277        44026   3.904052  5.141053  1.185026   1.053923   \n",
       "\n",
       "   Link Clicks  Landing Page Views Category Subcategory  \n",
       "0           46                  27      Hot       Other  \n",
       "1          606                 395      Hot       Other  \n",
       "2          191                 114      Hot       Other  "
      ]
     },
     "execution_count": 26,
     "metadata": {},
     "output_type": "execute_result"
    }
   ],
   "source": [
    "df_hot = df[df['Category']=='Hot'].reset_index()\n",
    "df_hot"
   ]
  },
  {
   "cell_type": "markdown",
   "id": "398de009",
   "metadata": {},
   "source": [
    "### Top Funnel Metrics"
   ]
  },
  {
   "cell_type": "code",
   "execution_count": 27,
   "id": "a5e0690f",
   "metadata": {},
   "outputs": [],
   "source": [
    "def top_funnel_metrics(df):\n",
    "    fig, axs = plt.subplots(1,3,figsize=(19,5))\n",
    "    sns.barplot(x= 'Ad Set Name', y = 'Reach',data= df,ax=axs[0])\n",
    "    axs[0].set_title('Reach')\n",
    "    sns.barplot(x= 'Ad Set Name', y = 'Impressions',data= df,ax=axs[1])\n",
    "    axs[1].set_title('Impressions')\n",
    "    sns.barplot(x= 'Ad Set Name', y = 'CPM',data= df,ax=axs[2])\n",
    "    axs[2].set_title('Cost per 1000 Impressions')\n",
    "    \n",
    "    for x in axs :\n",
    "        for label in x.get_xticklabels():\n",
    "            label.set_rotation(90)\n",
    "    plt.show()        "
   ]
  },
  {
   "cell_type": "code",
   "execution_count": 28,
   "id": "1223b68b",
   "metadata": {},
   "outputs": [
    {
     "data": {
      "image/png": "[encoded data removed]",
      "text/plain": [
       "<Figure size 1368x360 with 3 Axes>"
      ]
     },
     "metadata": {
      "needs_background": "light"
     },
     "output_type": "display_data"
    }
   ],
   "source": [
    "top_funnel_metrics(df_hot)"
   ]
  },
  {
   "cell_type": "markdown",
   "id": "48805101",
   "metadata": {},
   "source": [
    "### Mid Funnel Metrics"
   ]
  },
  {
   "cell_type": "code",
   "execution_count": 29,
   "id": "dcec2a70",
   "metadata": {},
   "outputs": [],
   "source": [
    "def mid_funnel_metrics(df):\n",
    "    fig, axs = plt.subplots(1,3,figsize=(19,5))\n",
    "    sns.barplot(x= 'Ad Set Name', y = 'CTR (all)',data= df,ax=axs[0])\n",
    "    axs[0].set_title('CTR (all)')\n",
    "    sns.barplot(x= 'Ad Set Name', y = 'Landing Page Views',data= df,ax=axs[1])\n",
    "    axs[1].set_title('Landing Page Views')\n",
    "    sns.barplot(x= 'Ad Set Name', y = 'CPC',data= df,ax=axs[2])\n",
    "    axs[2].set_title('Cost per Clicks')\n",
    "    \n",
    "    for x in axs :\n",
    "        for label in x.get_xticklabels():\n",
    "            label.set_rotation(90)\n",
    "    plt.show()        "
   ]
  },
  {
   "cell_type": "code",
   "execution_count": 30,
   "id": "34128cd0",
   "metadata": {},
   "outputs": [
    {
     "data": {
      "image/png": "[encoded data removed]",
      "text/plain": [
       "<Figure size 1368x360 with 3 Axes>"
      ]
     },
     "metadata": {
      "needs_background": "light"
     },
     "output_type": "display_data"
    }
   ],
   "source": [
    "mid_funnel_metrics(df_hot)"
   ]
  },
  {
   "cell_type": "code",
   "execution_count": 31,
   "id": "767942da",
   "metadata": {},
   "outputs": [],
   "source": [
    "def bottom_funnel_metrics(df):\n",
    "    fig, axs = plt.subplots(1,2,figsize=(19,5))\n",
    "    sns.barplot(x= 'Ad Set Name', y = 'Results',data= df,ax=axs[0])\n",
    "    axs[0].set_title('Results')\n",
    "    sns.barplot(x= 'Ad Set Name', y = 'CPR',data= df,ax=axs[1])\n",
    "    axs[1].set_title('Cost Per Results')\n",
    "\n",
    "    for x in axs :\n",
    "        for label in x.get_xticklabels():\n",
    "            label.set_rotation(90)\n",
    "    plt.show()        "
   ]
  },
  {
   "cell_type": "code",
   "execution_count": 32,
   "id": "51f8baab",
   "metadata": {},
   "outputs": [
    {
     "data": {
      "image/png": "[encoded data removed]",
      "text/plain": [
       "<Figure size 1368x360 with 2 Axes>"
      ]
     },
     "metadata": {
      "needs_background": "light"
     },
     "output_type": "display_data"
    }
   ],
   "source": [
    "bottom_funnel_metrics(df_hot)"
   ]
  },
  {
   "cell_type": "markdown",
   "id": "2d1bc9a2",
   "metadata": {},
   "source": [
    "### Total Amount Spent on each Ad Set"
   ]
  },
  {
   "cell_type": "code",
   "execution_count": 33,
   "id": "8e1acbfd",
   "metadata": {},
   "outputs": [
    {
     "data": {
      "text/plain": [
       "<AxesSubplot:xlabel='Ad Set Name', ylabel='Amount Spent'>"
      ]
     },
     "execution_count": 33,
     "metadata": {},
     "output_type": "execute_result"
    },
    {
     "data": {
      "image/png": "[encoded data removed]",
      "text/plain": [
       "<Figure size 432x288 with 1 Axes>"
      ]
     },
     "metadata": {
      "needs_background": "light"
     },
     "output_type": "display_data"
    }
   ],
   "source": [
    "sns.barplot(x= 'Ad Set Name', y = 'Amount Spent',data= df_hot)"
   ]
  },
  {
   "cell_type": "code",
   "execution_count": 34,
   "id": "9935360e",
   "metadata": {},
   "outputs": [],
   "source": [
    "# In Hot-Discount, We have spent 200 Euros and get 10 conversions.\n",
    "# In Hot-Last chance & crsl, we have spent 600 Euros and get 20 conversions.\n",
    "# --> The Hot-Discount Ad Set is more efficient and cheaper ."
   ]
  },
  {
   "cell_type": "code",
   "execution_count": 35,
   "id": "268978fe",
   "metadata": {},
   "outputs": [
    {
     "data": {
      "text/html": [
       "<div>\n",
       "<style scoped>\n",
       "    .dataframe tbody tr th:only-of-type {\n",
       "        vertical-align: middle;\n",
       "    }\n",
       "\n",
       "    .dataframe tbody tr th {\n",
       "        vertical-align: top;\n",
       "    }\n",
       "\n",
       "    .dataframe thead th {\n",
       "        text-align: right;\n",
       "    }\n",
       "</style>\n",
       "<table border=\"1\" class=\"dataframe\">\n",
       "  <thead>\n",
       "    <tr style=\"text-align: right;\">\n",
       "      <th></th>\n",
       "      <th>index</th>\n",
       "      <th>Reporting Starts</th>\n",
       "      <th>Reporting Ends</th>\n",
       "      <th>Ad Set Name</th>\n",
       "      <th>Amount Spent</th>\n",
       "      <th>Results</th>\n",
       "      <th>Result indicator</th>\n",
       "      <th>CPR</th>\n",
       "      <th>Reach</th>\n",
       "      <th>Impressions</th>\n",
       "      <th>Frequency</th>\n",
       "      <th>CPM</th>\n",
       "      <th>CPC</th>\n",
       "      <th>CTR (all)</th>\n",
       "      <th>Link Clicks</th>\n",
       "      <th>Landing Page Views</th>\n",
       "      <th>Category</th>\n",
       "      <th>Subcategory</th>\n",
       "    </tr>\n",
       "  </thead>\n",
       "  <tbody>\n",
       "    <tr>\n",
       "      <th>0</th>\n",
       "      <td>8</td>\n",
       "      <td>20/5/2022</td>\n",
       "      <td>31/5/2022</td>\n",
       "      <td>Warm - CRSL</td>\n",
       "      <td>431.14</td>\n",
       "      <td>14</td>\n",
       "      <td>actions:offsite_conversion.fb_pixel_purchase</td>\n",
       "      <td>30.795714</td>\n",
       "      <td>43008</td>\n",
       "      <td>208699</td>\n",
       "      <td>4.852562</td>\n",
       "      <td>2.065846</td>\n",
       "      <td>0.688722</td>\n",
       "      <td>0.728322</td>\n",
       "      <td>626</td>\n",
       "      <td>357</td>\n",
       "      <td>Warm</td>\n",
       "      <td>Other</td>\n",
       "    </tr>\n",
       "    <tr>\n",
       "      <th>1</th>\n",
       "      <td>9</td>\n",
       "      <td>20/5/2022</td>\n",
       "      <td>31/5/2022</td>\n",
       "      <td>Warm - Videos</td>\n",
       "      <td>430.95</td>\n",
       "      <td>6</td>\n",
       "      <td>actions:offsite_conversion.fb_pixel_purchase</td>\n",
       "      <td>71.825000</td>\n",
       "      <td>21456</td>\n",
       "      <td>115344</td>\n",
       "      <td>5.375839</td>\n",
       "      <td>3.736215</td>\n",
       "      <td>0.543443</td>\n",
       "      <td>1.377618</td>\n",
       "      <td>793</td>\n",
       "      <td>185</td>\n",
       "      <td>Warm</td>\n",
       "      <td>Other</td>\n",
       "    </tr>\n",
       "  </tbody>\n",
       "</table>\n",
       "</div>"
      ],
      "text/plain": [
       "   index Reporting Starts Reporting Ends    Ad Set Name  Amount Spent  \\\n",
       "0      8        20/5/2022      31/5/2022    Warm - CRSL        431.14   \n",
       "1      9        20/5/2022      31/5/2022  Warm - Videos        430.95   \n",
       "\n",
       "   Results                              Result indicator        CPR  Reach  \\\n",
       "0       14  actions:offsite_conversion.fb_pixel_purchase  30.795714  43008   \n",
       "1        6  actions:offsite_conversion.fb_pixel_purchase  71.825000  21456   \n",
       "\n",
       "   Impressions  Frequency       CPM       CPC  CTR (all)  Link Clicks  \\\n",
       "0       208699   4.852562  2.065846  0.688722   0.728322          626   \n",
       "1       115344   5.375839  3.736215  0.543443   1.377618          793   \n",
       "\n",
       "   Landing Page Views Category Subcategory  \n",
       "0                 357     Warm       Other  \n",
       "1                 185     Warm       Other  "
      ]
     },
     "execution_count": 35,
     "metadata": {},
     "output_type": "execute_result"
    }
   ],
   "source": [
    "df_warm = df[df['Category']=='Warm'].reset_index()\n",
    "df_warm"
   ]
  },
  {
   "cell_type": "code",
   "execution_count": 36,
   "id": "311be256",
   "metadata": {
    "scrolled": true
   },
   "outputs": [
    {
     "data": {
      "image/png": "[encoded data removed]",
      "text/plain": [
       "<Figure size 1368x360 with 3 Axes>"
      ]
     },
     "metadata": {
      "needs_background": "light"
     },
     "output_type": "display_data"
    }
   ],
   "source": [
    "top_funnel_metrics(df_warm)"
   ]
  },
  {
   "cell_type": "code",
   "execution_count": 37,
   "id": "3eb93d0c",
   "metadata": {},
   "outputs": [
    {
     "data": {
      "text/plain": [
       "<AxesSubplot:xlabel='Ad Set Name', ylabel='Link Clicks'>"
      ]
     },
     "execution_count": 37,
     "metadata": {},
     "output_type": "execute_result"
    },
    {
     "data": {
      "image/png": "[encoded data removed]",
      "text/plain": [
       "<Figure size 432x288 with 1 Axes>"
      ]
     },
     "metadata": {
      "needs_background": "light"
     },
     "output_type": "display_data"
    }
   ],
   "source": [
    "sns.barplot(x= 'Ad Set Name', y = 'Link Clicks',data= df_warm)"
   ]
  },
  {
   "cell_type": "code",
   "execution_count": 38,
   "id": "4bcfa4a3",
   "metadata": {},
   "outputs": [
    {
     "data": {
      "image/png": "[encoded data removed]",
      "text/plain": [
       "<Figure size 1368x360 with 3 Axes>"
      ]
     },
     "metadata": {
      "needs_background": "light"
     },
     "output_type": "display_data"
    }
   ],
   "source": [
    "mid_funnel_metrics(df_warm)"
   ]
  },
  {
   "cell_type": "code",
   "execution_count": 39,
   "id": "760181bc",
   "metadata": {},
   "outputs": [
    {
     "data": {
      "image/png": "[encoded data removed]",
      "text/plain": [
       "<Figure size 1368x360 with 2 Axes>"
      ]
     },
     "metadata": {
      "needs_background": "light"
     },
     "output_type": "display_data"
    }
   ],
   "source": [
    "bottom_funnel_metrics(df_warm)"
   ]
  },
  {
   "cell_type": "code",
   "execution_count": 40,
   "id": "f9998c73",
   "metadata": {},
   "outputs": [
    {
     "data": {
      "text/plain": [
       "<AxesSubplot:xlabel='Ad Set Name', ylabel='Amount Spent'>"
      ]
     },
     "execution_count": 40,
     "metadata": {},
     "output_type": "execute_result"
    },
    {
     "data": {
      "image/png": "[encoded data removed]",
      "text/plain": [
       "<Figure size 432x288 with 1 Axes>"
      ]
     },
     "metadata": {
      "needs_background": "light"
     },
     "output_type": "display_data"
    }
   ],
   "source": [
    "sns.barplot(x= 'Ad Set Name', y = 'Amount Spent',data= df_warm)"
   ]
  },
  {
   "cell_type": "code",
   "execution_count": 41,
   "id": "ebd43a9b",
   "metadata": {},
   "outputs": [],
   "source": [
    "# I want to mention that we are seeing fewer conversions from the video's ads set,\n",
    "# because many people who interacted with this ad and clicked on it didn't actually make it to the website's landing page .\n"
   ]
  },
  {
   "cell_type": "code",
   "execution_count": 42,
   "id": "5a28fdd5",
   "metadata": {},
   "outputs": [
    {
     "data": {
      "text/html": [
       "<div>\n",
       "<style scoped>\n",
       "    .dataframe tbody tr th:only-of-type {\n",
       "        vertical-align: middle;\n",
       "    }\n",
       "\n",
       "    .dataframe tbody tr th {\n",
       "        vertical-align: top;\n",
       "    }\n",
       "\n",
       "    .dataframe thead th {\n",
       "        text-align: right;\n",
       "    }\n",
       "</style>\n",
       "<table border=\"1\" class=\"dataframe\">\n",
       "  <thead>\n",
       "    <tr style=\"text-align: right;\">\n",
       "      <th></th>\n",
       "      <th>index</th>\n",
       "      <th>Reporting Starts</th>\n",
       "      <th>Reporting Ends</th>\n",
       "      <th>Ad Set Name</th>\n",
       "      <th>Amount Spent</th>\n",
       "      <th>Results</th>\n",
       "      <th>Result indicator</th>\n",
       "      <th>CPR</th>\n",
       "      <th>Reach</th>\n",
       "      <th>Impressions</th>\n",
       "      <th>Frequency</th>\n",
       "      <th>CPM</th>\n",
       "      <th>CPC</th>\n",
       "      <th>CTR (all)</th>\n",
       "      <th>Link Clicks</th>\n",
       "      <th>Landing Page Views</th>\n",
       "      <th>Category</th>\n",
       "      <th>Subcategory</th>\n",
       "    </tr>\n",
       "  </thead>\n",
       "  <tbody>\n",
       "    <tr>\n",
       "      <th>0</th>\n",
       "      <td>0</td>\n",
       "      <td>20/5/2022</td>\n",
       "      <td>31/5/2022</td>\n",
       "      <td>T1 - Cold - LLA - Promo May</td>\n",
       "      <td>332.65</td>\n",
       "      <td>2</td>\n",
       "      <td>actions:offsite_conversion.fb_pixel_purchase</td>\n",
       "      <td>166.3250</td>\n",
       "      <td>6032</td>\n",
       "      <td>12594</td>\n",
       "      <td>2.087865</td>\n",
       "      <td>26.413371</td>\n",
       "      <td>2.294138</td>\n",
       "      <td>2.207400</td>\n",
       "      <td>145</td>\n",
       "      <td>89</td>\n",
       "      <td>Cold</td>\n",
       "      <td>Lookalike Audience</td>\n",
       "    </tr>\n",
       "    <tr>\n",
       "      <th>1</th>\n",
       "      <td>1</td>\n",
       "      <td>20/5/2022</td>\n",
       "      <td>31/5/2022</td>\n",
       "      <td>T1 - Cold - DT - Promo May</td>\n",
       "      <td>915.00</td>\n",
       "      <td>15</td>\n",
       "      <td>actions:offsite_conversion.fb_pixel_purchase</td>\n",
       "      <td>61.0000</td>\n",
       "      <td>18900</td>\n",
       "      <td>42510</td>\n",
       "      <td>2.249206</td>\n",
       "      <td>21.524347</td>\n",
       "      <td>2.636888</td>\n",
       "      <td>1.587862</td>\n",
       "      <td>347</td>\n",
       "      <td>215</td>\n",
       "      <td>Cold</td>\n",
       "      <td>Detailed Targeting</td>\n",
       "    </tr>\n",
       "    <tr>\n",
       "      <th>2</th>\n",
       "      <td>2</td>\n",
       "      <td>20/5/2022</td>\n",
       "      <td>31/5/2022</td>\n",
       "      <td>T2 - Cold - LLA - Promo May</td>\n",
       "      <td>327.77</td>\n",
       "      <td>4</td>\n",
       "      <td>actions:offsite_conversion.fb_pixel_purchase</td>\n",
       "      <td>81.9425</td>\n",
       "      <td>34743</td>\n",
       "      <td>61268</td>\n",
       "      <td>1.763463</td>\n",
       "      <td>5.349775</td>\n",
       "      <td>0.947312</td>\n",
       "      <td>1.237187</td>\n",
       "      <td>346</td>\n",
       "      <td>220</td>\n",
       "      <td>Cold</td>\n",
       "      <td>Lookalike Audience</td>\n",
       "    </tr>\n",
       "    <tr>\n",
       "      <th>3</th>\n",
       "      <td>3</td>\n",
       "      <td>20/5/2022</td>\n",
       "      <td>31/5/2022</td>\n",
       "      <td>T2 - Cold - DT - Promo May</td>\n",
       "      <td>297.38</td>\n",
       "      <td>0</td>\n",
       "      <td>NaN</td>\n",
       "      <td>NaN</td>\n",
       "      <td>45001</td>\n",
       "      <td>65880</td>\n",
       "      <td>1.463967</td>\n",
       "      <td>4.513965</td>\n",
       "      <td>0.788806</td>\n",
       "      <td>1.220401</td>\n",
       "      <td>377</td>\n",
       "      <td>225</td>\n",
       "      <td>Cold</td>\n",
       "      <td>Detailed Targeting</td>\n",
       "    </tr>\n",
       "    <tr>\n",
       "      <th>4</th>\n",
       "      <td>4</td>\n",
       "      <td>20/5/2022</td>\n",
       "      <td>31/5/2022</td>\n",
       "      <td>T3 - Cold - LLA - Promo May</td>\n",
       "      <td>291.45</td>\n",
       "      <td>4</td>\n",
       "      <td>actions:offsite_conversion.fb_pixel_purchase</td>\n",
       "      <td>72.8625</td>\n",
       "      <td>69040</td>\n",
       "      <td>147600</td>\n",
       "      <td>2.137891</td>\n",
       "      <td>1.974594</td>\n",
       "      <td>0.464092</td>\n",
       "      <td>1.115854</td>\n",
       "      <td>628</td>\n",
       "      <td>372</td>\n",
       "      <td>Cold</td>\n",
       "      <td>Lookalike Audience</td>\n",
       "    </tr>\n",
       "    <tr>\n",
       "      <th>5</th>\n",
       "      <td>5</td>\n",
       "      <td>20/5/2022</td>\n",
       "      <td>31/5/2022</td>\n",
       "      <td>T3 - Cold - DT - Promo May</td>\n",
       "      <td>49.23</td>\n",
       "      <td>0</td>\n",
       "      <td>NaN</td>\n",
       "      <td>NaN</td>\n",
       "      <td>27448</td>\n",
       "      <td>38664</td>\n",
       "      <td>1.408627</td>\n",
       "      <td>1.273277</td>\n",
       "      <td>0.259105</td>\n",
       "      <td>1.259570</td>\n",
       "      <td>190</td>\n",
       "      <td>77</td>\n",
       "      <td>Cold</td>\n",
       "      <td>Detailed Targeting</td>\n",
       "    </tr>\n",
       "    <tr>\n",
       "      <th>6</th>\n",
       "      <td>6</td>\n",
       "      <td>20/5/2022</td>\n",
       "      <td>31/5/2022</td>\n",
       "      <td>T4 - Cold - DT - Promo May</td>\n",
       "      <td>91.02</td>\n",
       "      <td>2</td>\n",
       "      <td>actions:offsite_conversion.fb_pixel_purchase</td>\n",
       "      <td>45.5100</td>\n",
       "      <td>44784</td>\n",
       "      <td>65515</td>\n",
       "      <td>1.462911</td>\n",
       "      <td>1.389300</td>\n",
       "      <td>0.238272</td>\n",
       "      <td>1.340151</td>\n",
       "      <td>382</td>\n",
       "      <td>169</td>\n",
       "      <td>Cold</td>\n",
       "      <td>Detailed Targeting</td>\n",
       "    </tr>\n",
       "    <tr>\n",
       "      <th>7</th>\n",
       "      <td>7</td>\n",
       "      <td>20/5/2022</td>\n",
       "      <td>31/5/2022</td>\n",
       "      <td>T4 - Cold - LLA - Promo May</td>\n",
       "      <td>272.38</td>\n",
       "      <td>5</td>\n",
       "      <td>actions:offsite_conversion.fb_pixel_purchase</td>\n",
       "      <td>54.4760</td>\n",
       "      <td>109535</td>\n",
       "      <td>201309</td>\n",
       "      <td>1.837851</td>\n",
       "      <td>1.353044</td>\n",
       "      <td>0.298662</td>\n",
       "      <td>0.997968</td>\n",
       "      <td>912</td>\n",
       "      <td>540</td>\n",
       "      <td>Cold</td>\n",
       "      <td>Lookalike Audience</td>\n",
       "    </tr>\n",
       "  </tbody>\n",
       "</table>\n",
       "</div>"
      ],
      "text/plain": [
       "   index Reporting Starts Reporting Ends                  Ad Set Name  \\\n",
       "0      0        20/5/2022      31/5/2022  T1 - Cold - LLA - Promo May   \n",
       "1      1        20/5/2022      31/5/2022   T1 - Cold - DT - Promo May   \n",
       "2      2        20/5/2022      31/5/2022  T2 - Cold - LLA - Promo May   \n",
       "3      3        20/5/2022      31/5/2022   T2 - Cold - DT - Promo May   \n",
       "4      4        20/5/2022      31/5/2022  T3 - Cold - LLA - Promo May   \n",
       "5      5        20/5/2022      31/5/2022   T3 - Cold - DT - Promo May   \n",
       "6      6        20/5/2022      31/5/2022   T4 - Cold - DT - Promo May   \n",
       "7      7        20/5/2022      31/5/2022  T4 - Cold - LLA - Promo May   \n",
       "\n",
       "   Amount Spent  Results                              Result indicator  \\\n",
       "0        332.65        2  actions:offsite_conversion.fb_pixel_purchase   \n",
       "1        915.00       15  actions:offsite_conversion.fb_pixel_purchase   \n",
       "2        327.77        4  actions:offsite_conversion.fb_pixel_purchase   \n",
       "3        297.38        0                                           NaN   \n",
       "4        291.45        4  actions:offsite_conversion.fb_pixel_purchase   \n",
       "5         49.23        0                                           NaN   \n",
       "6         91.02        2  actions:offsite_conversion.fb_pixel_purchase   \n",
       "7        272.38        5  actions:offsite_conversion.fb_pixel_purchase   \n",
       "\n",
       "        CPR   Reach  Impressions  Frequency        CPM       CPC  CTR (all)  \\\n",
       "0  166.3250    6032        12594   2.087865  26.413371  2.294138   2.207400   \n",
       "1   61.0000   18900        42510   2.249206  21.524347  2.636888   1.587862   \n",
       "2   81.9425   34743        61268   1.763463   5.349775  0.947312   1.237187   \n",
       "3       NaN   45001        65880   1.463967   4.513965  0.788806   1.220401   \n",
       "4   72.8625   69040       147600   2.137891   1.974594  0.464092   1.115854   \n",
       "5       NaN   27448        38664   1.408627   1.273277  0.259105   1.259570   \n",
       "6   45.5100   44784        65515   1.462911   1.389300  0.238272   1.340151   \n",
       "7   54.4760  109535       201309   1.837851   1.353044  0.298662   0.997968   \n",
       "\n",
       "   Link Clicks  Landing Page Views Category         Subcategory  \n",
       "0          145                  89     Cold  Lookalike Audience  \n",
       "1          347                 215     Cold  Detailed Targeting  \n",
       "2          346                 220     Cold  Lookalike Audience  \n",
       "3          377                 225     Cold  Detailed Targeting  \n",
       "4          628                 372     Cold  Lookalike Audience  \n",
       "5          190                  77     Cold  Detailed Targeting  \n",
       "6          382                 169     Cold  Detailed Targeting  \n",
       "7          912                 540     Cold  Lookalike Audience  "
      ]
     },
     "execution_count": 42,
     "metadata": {},
     "output_type": "execute_result"
    }
   ],
   "source": [
    "df_cold = df[df['Category']=='Cold'].reset_index()\n",
    "df_cold"
   ]
  },
  {
   "cell_type": "code",
   "execution_count": 43,
   "id": "911ef7be",
   "metadata": {},
   "outputs": [],
   "source": [
    "def all_cold_adsets(df,metrics,ad_set_types= ['Lookalike Audience','Detailed Targeting']):\n",
    "    fig, axes = plt.subplots(nrows= len(metrics),\n",
    "                            ncols= len(ad_set_types),\n",
    "                            figsize=(12,11),\n",
    "                            sharey= 'row')\n",
    "    for i, metric in enumerate(metrics):\n",
    "        for j , ad_set_type in enumerate(ad_set_types):\n",
    "            filtered_df = df[df['Subcategory']==ad_set_type]\n",
    "            ax = axes[i,j]\n",
    "            sns.barplot(x= 'Ad Set Name',\n",
    "                       y= metric,\n",
    "                       data= filtered_df,\n",
    "                       ax= ax)\n",
    "            ax.set_title(f'{metric}--{ad_set_type}')\n",
    "            ax.set_xticklabels(ax.get_xticklabels(), rotation= 90)\n",
    "    \n",
    "    plt.tight_layout()\n",
    "    plt.show()"
   ]
  },
  {
   "cell_type": "markdown",
   "id": "3f417bee",
   "metadata": {},
   "source": [
    "## Top Funnel Metrics"
   ]
  },
  {
   "cell_type": "code",
   "execution_count": 44,
   "id": "8665340b",
   "metadata": {
    "scrolled": false
   },
   "outputs": [
    {
     "data": {
      "image/png": "[encoded data removed]",
      "text/plain": [
       "<Figure size 864x792 with 6 Axes>"
      ]
     },
     "metadata": {
      "needs_background": "light"
     },
     "output_type": "display_data"
    }
   ],
   "source": [
    "top_funnel_metrics= ['Reach', 'Impressions','CPM']\n",
    "all_cold_adsets(df_cold, top_funnel_metrics)"
   ]
  },
  {
   "cell_type": "markdown",
   "id": "64a55995",
   "metadata": {},
   "source": [
    "## Mid Funnel Metrics"
   ]
  },
  {
   "cell_type": "code",
   "execution_count": 45,
   "id": "e5b14e77",
   "metadata": {},
   "outputs": [
    {
     "data": {
      "image/png": "[encoded data removed]",
      "text/plain": [
       "<Figure size 864x792 with 6 Axes>"
      ]
     },
     "metadata": {
      "needs_background": "light"
     },
     "output_type": "display_data"
    }
   ],
   "source": [
    "mid_funnel_metrics= ['CTR (all)','CPC','Landing Page Views']\n",
    "all_cold_adsets(df_cold,mid_funnel_metrics)"
   ]
  },
  {
   "cell_type": "code",
   "execution_count": 46,
   "id": "a3b3ee9b",
   "metadata": {},
   "outputs": [],
   "source": [
    "# CTR --> Click Through rate \n",
    "# CPC --> Cost Per Click\n",
    "# CPR --> Cost Per Result"
   ]
  },
  {
   "cell_type": "markdown",
   "id": "3db2221a",
   "metadata": {},
   "source": [
    "## Bottom Funnel Metrics"
   ]
  },
  {
   "cell_type": "code",
   "execution_count": 47,
   "id": "45051713",
   "metadata": {},
   "outputs": [
    {
     "data": {
      "image/png": "[encoded data removed]",
      "text/plain": [
       "<Figure size 864x792 with 6 Axes>"
      ]
     },
     "metadata": {
      "needs_background": "light"
     },
     "output_type": "display_data"
    }
   ],
   "source": [
    "bottom_funnel_metrics = ['Results', 'CPR', 'Amount Spent']\n",
    "all_cold_adsets(df_cold,bottom_funnel_metrics)"
   ]
  },
  {
   "cell_type": "markdown",
   "id": "0bfa0cf2",
   "metadata": {},
   "source": [
    "# Case 2"
   ]
  },
  {
   "cell_type": "code",
   "execution_count": 48,
   "id": "4b4aecee",
   "metadata": {},
   "outputs": [
    {
     "data": {
      "text/html": [
       "<div>\n",
       "<style scoped>\n",
       "    .dataframe tbody tr th:only-of-type {\n",
       "        vertical-align: middle;\n",
       "    }\n",
       "\n",
       "    .dataframe tbody tr th {\n",
       "        vertical-align: top;\n",
       "    }\n",
       "\n",
       "    .dataframe thead th {\n",
       "        text-align: right;\n",
       "    }\n",
       "</style>\n",
       "<table border=\"1\" class=\"dataframe\">\n",
       "  <thead>\n",
       "    <tr style=\"text-align: right;\">\n",
       "      <th></th>\n",
       "      <th>Campaign Name</th>\n",
       "      <th>Ad Set (Fitness Journey)</th>\n",
       "      <th>Amount Spent ($)</th>\n",
       "      <th>Clicks</th>\n",
       "      <th>Impressions</th>\n",
       "      <th>Conversions (Sign-ups)</th>\n",
       "      <th>CTR (%)</th>\n",
       "      <th>CPR ($)</th>\n",
       "      <th>Ad Variation</th>\n",
       "      <th>Link Clicks</th>\n",
       "    </tr>\n",
       "  </thead>\n",
       "  <tbody>\n",
       "    <tr>\n",
       "      <th>0</th>\n",
       "      <td>Global Fitness Challenge</td>\n",
       "      <td>African Dance Rhythms</td>\n",
       "      <td>5000</td>\n",
       "      <td>430</td>\n",
       "      <td>10000</td>\n",
       "      <td>75</td>\n",
       "      <td>4.300000</td>\n",
       "      <td>66.666667</td>\n",
       "      <td>image</td>\n",
       "      <td>430</td>\n",
       "    </tr>\n",
       "    <tr>\n",
       "      <th>1</th>\n",
       "      <td>Global Fitness Challenge</td>\n",
       "      <td>African Dance Rhythms</td>\n",
       "      <td>5000</td>\n",
       "      <td>430</td>\n",
       "      <td>10000</td>\n",
       "      <td>75</td>\n",
       "      <td>4.300000</td>\n",
       "      <td>66.666667</td>\n",
       "      <td>text</td>\n",
       "      <td>430</td>\n",
       "    </tr>\n",
       "    <tr>\n",
       "      <th>2</th>\n",
       "      <td>Global Fitness Challenge</td>\n",
       "      <td>African Dance Rhythms</td>\n",
       "      <td>5000</td>\n",
       "      <td>516</td>\n",
       "      <td>10000</td>\n",
       "      <td>75</td>\n",
       "      <td>5.160000</td>\n",
       "      <td>66.666667</td>\n",
       "      <td>video</td>\n",
       "      <td>720</td>\n",
       "    </tr>\n",
       "    <tr>\n",
       "      <th>3</th>\n",
       "      <td>Global Fitness Challenge</td>\n",
       "      <td>Brazilian Capoeira Craze</td>\n",
       "      <td>5500</td>\n",
       "      <td>500</td>\n",
       "      <td>13000</td>\n",
       "      <td>90</td>\n",
       "      <td>3.846154</td>\n",
       "      <td>61.111111</td>\n",
       "      <td>image</td>\n",
       "      <td>500</td>\n",
       "    </tr>\n",
       "    <tr>\n",
       "      <th>4</th>\n",
       "      <td>Global Fitness Challenge</td>\n",
       "      <td>Brazilian Capoeira Craze</td>\n",
       "      <td>5500</td>\n",
       "      <td>500</td>\n",
       "      <td>13000</td>\n",
       "      <td>90</td>\n",
       "      <td>3.846154</td>\n",
       "      <td>61.111111</td>\n",
       "      <td>text</td>\n",
       "      <td>500</td>\n",
       "    </tr>\n",
       "  </tbody>\n",
       "</table>\n",
       "</div>"
      ],
      "text/plain": [
       "              Campaign Name  Ad Set (Fitness Journey)  Amount Spent ($)  \\\n",
       "0  Global Fitness Challenge     African Dance Rhythms              5000   \n",
       "1  Global Fitness Challenge     African Dance Rhythms              5000   \n",
       "2  Global Fitness Challenge     African Dance Rhythms              5000   \n",
       "3  Global Fitness Challenge  Brazilian Capoeira Craze              5500   \n",
       "4  Global Fitness Challenge  Brazilian Capoeira Craze              5500   \n",
       "\n",
       "   Clicks  Impressions  Conversions (Sign-ups)   CTR (%)    CPR ($)  \\\n",
       "0     430        10000                      75  4.300000  66.666667   \n",
       "1     430        10000                      75  4.300000  66.666667   \n",
       "2     516        10000                      75  5.160000  66.666667   \n",
       "3     500        13000                      90  3.846154  61.111111   \n",
       "4     500        13000                      90  3.846154  61.111111   \n",
       "\n",
       "  Ad Variation  Link Clicks  \n",
       "0        image          430  \n",
       "1         text          430  \n",
       "2        video          720  \n",
       "3        image          500  \n",
       "4         text          500  "
      ]
     },
     "execution_count": 48,
     "metadata": {},
     "output_type": "execute_result"
    }
   ],
   "source": [
    "data_fitness= pd.read_csv('D:\\Data\\dataanalysisproject\\Global Fitness Challenge - Case 2.csv')\n",
    "data_fitness.head()"
   ]
  },
  {
   "cell_type": "code",
   "execution_count": 49,
   "id": "f9906758",
   "metadata": {},
   "outputs": [
    {
     "name": "stdout",
     "output_type": "stream",
     "text": [
      "<class 'pandas.core.frame.DataFrame'>\n",
      "RangeIndex: 50 entries, 0 to 49\n",
      "Data columns (total 10 columns):\n",
      " #   Column                    Non-Null Count  Dtype  \n",
      "---  ------                    --------------  -----  \n",
      " 0   Campaign Name             50 non-null     object \n",
      " 1   Ad Set (Fitness Journey)  50 non-null     object \n",
      " 2   Amount Spent ($)          50 non-null     int64  \n",
      " 3   Clicks                    50 non-null     int64  \n",
      " 4   Impressions               50 non-null     int64  \n",
      " 5   Conversions (Sign-ups)    50 non-null     int64  \n",
      " 6   CTR (%)                   50 non-null     float64\n",
      " 7   CPR ($)                   50 non-null     float64\n",
      " 8   Ad Variation              50 non-null     object \n",
      " 9   Link Clicks               50 non-null     int64  \n",
      "dtypes: float64(2), int64(5), object(3)\n",
      "memory usage: 4.0+ KB\n"
     ]
    }
   ],
   "source": [
    "data_fitness.info()"
   ]
  },
  {
   "cell_type": "code",
   "execution_count": 50,
   "id": "bae1c485",
   "metadata": {},
   "outputs": [
    {
     "data": {
      "text/html": [
       "<div>\n",
       "<style scoped>\n",
       "    .dataframe tbody tr th:only-of-type {\n",
       "        vertical-align: middle;\n",
       "    }\n",
       "\n",
       "    .dataframe tbody tr th {\n",
       "        vertical-align: top;\n",
       "    }\n",
       "\n",
       "    .dataframe thead th {\n",
       "        text-align: right;\n",
       "    }\n",
       "</style>\n",
       "<table border=\"1\" class=\"dataframe\">\n",
       "  <thead>\n",
       "    <tr style=\"text-align: right;\">\n",
       "      <th></th>\n",
       "      <th>Amount Spent ($)</th>\n",
       "      <th>Clicks</th>\n",
       "      <th>Impressions</th>\n",
       "      <th>Conversions (Sign-ups)</th>\n",
       "      <th>CTR (%)</th>\n",
       "      <th>CPR ($)</th>\n",
       "      <th>Link Clicks</th>\n",
       "    </tr>\n",
       "  </thead>\n",
       "  <tbody>\n",
       "    <tr>\n",
       "      <th>count</th>\n",
       "      <td>50.000000</td>\n",
       "      <td>50.000000</td>\n",
       "      <td>50.000000</td>\n",
       "      <td>50.00000</td>\n",
       "      <td>50.000000</td>\n",
       "      <td>50.000000</td>\n",
       "      <td>50.000000</td>\n",
       "    </tr>\n",
       "    <tr>\n",
       "      <th>mean</th>\n",
       "      <td>5342.000000</td>\n",
       "      <td>484.240000</td>\n",
       "      <td>11140.000000</td>\n",
       "      <td>86.70000</td>\n",
       "      <td>4.368318</td>\n",
       "      <td>62.434734</td>\n",
       "      <td>539.200000</td>\n",
       "    </tr>\n",
       "    <tr>\n",
       "      <th>std</th>\n",
       "      <td>303.778921</td>\n",
       "      <td>51.319949</td>\n",
       "      <td>1160.752747</td>\n",
       "      <td>10.00051</td>\n",
       "      <td>0.451111</td>\n",
       "      <td>7.927432</td>\n",
       "      <td>136.094805</td>\n",
       "    </tr>\n",
       "    <tr>\n",
       "      <th>min</th>\n",
       "      <td>5000.000000</td>\n",
       "      <td>400.000000</td>\n",
       "      <td>9500.000000</td>\n",
       "      <td>70.00000</td>\n",
       "      <td>3.750000</td>\n",
       "      <td>54.166667</td>\n",
       "      <td>400.000000</td>\n",
       "    </tr>\n",
       "    <tr>\n",
       "      <th>25%</th>\n",
       "      <td>5200.000000</td>\n",
       "      <td>450.000000</td>\n",
       "      <td>10000.000000</td>\n",
       "      <td>75.00000</td>\n",
       "      <td>4.210526</td>\n",
       "      <td>54.166667</td>\n",
       "      <td>450.000000</td>\n",
       "    </tr>\n",
       "    <tr>\n",
       "      <th>50%</th>\n",
       "      <td>5200.000000</td>\n",
       "      <td>480.000000</td>\n",
       "      <td>11000.000000</td>\n",
       "      <td>90.00000</td>\n",
       "      <td>4.363636</td>\n",
       "      <td>61.111111</td>\n",
       "      <td>480.000000</td>\n",
       "    </tr>\n",
       "    <tr>\n",
       "      <th>75%</th>\n",
       "      <td>5500.000000</td>\n",
       "      <td>500.000000</td>\n",
       "      <td>12000.000000</td>\n",
       "      <td>96.00000</td>\n",
       "      <td>4.465909</td>\n",
       "      <td>70.588235</td>\n",
       "      <td>631.250000</td>\n",
       "    </tr>\n",
       "    <tr>\n",
       "      <th>max</th>\n",
       "      <td>6000.000000</td>\n",
       "      <td>600.000000</td>\n",
       "      <td>13000.000000</td>\n",
       "      <td>96.00000</td>\n",
       "      <td>5.236364</td>\n",
       "      <td>74.285714</td>\n",
       "      <td>825.000000</td>\n",
       "    </tr>\n",
       "  </tbody>\n",
       "</table>\n",
       "</div>"
      ],
      "text/plain": [
       "       Amount Spent ($)      Clicks   Impressions  Conversions (Sign-ups)  \\\n",
       "count         50.000000   50.000000     50.000000                50.00000   \n",
       "mean        5342.000000  484.240000  11140.000000                86.70000   \n",
       "std          303.778921   51.319949   1160.752747                10.00051   \n",
       "min         5000.000000  400.000000   9500.000000                70.00000   \n",
       "25%         5200.000000  450.000000  10000.000000                75.00000   \n",
       "50%         5200.000000  480.000000  11000.000000                90.00000   \n",
       "75%         5500.000000  500.000000  12000.000000                96.00000   \n",
       "max         6000.000000  600.000000  13000.000000                96.00000   \n",
       "\n",
       "         CTR (%)    CPR ($)  Link Clicks  \n",
       "count  50.000000  50.000000    50.000000  \n",
       "mean    4.368318  62.434734   539.200000  \n",
       "std     0.451111   7.927432   136.094805  \n",
       "min     3.750000  54.166667   400.000000  \n",
       "25%     4.210526  54.166667   450.000000  \n",
       "50%     4.363636  61.111111   480.000000  \n",
       "75%     4.465909  70.588235   631.250000  \n",
       "max     5.236364  74.285714   825.000000  "
      ]
     },
     "execution_count": 50,
     "metadata": {},
     "output_type": "execute_result"
    }
   ],
   "source": [
    "data_fitness.describe()"
   ]
  },
  {
   "cell_type": "code",
   "execution_count": 51,
   "id": "6c9b0630",
   "metadata": {},
   "outputs": [
    {
     "data": {
      "text/plain": [
       "267100"
      ]
     },
     "execution_count": 51,
     "metadata": {},
     "output_type": "execute_result"
    }
   ],
   "source": [
    "data_fitness['Amount Spent ($)'].sum()"
   ]
  },
  {
   "cell_type": "code",
   "execution_count": 52,
   "id": "15b495ac",
   "metadata": {},
   "outputs": [
    {
     "data": {
      "text/plain": [
       "Ad Variation\n",
       "image    4.363636\n",
       "text     4.363636\n",
       "video    5.236364\n",
       "Name: CTR (%), dtype: float64"
      ]
     },
     "execution_count": 52,
     "metadata": {},
     "output_type": "execute_result"
    }
   ],
   "source": [
    "data_fitness.groupby('Ad Variation')['CTR (%)'].max()"
   ]
  },
  {
   "cell_type": "code",
   "execution_count": 53,
   "id": "1c58426d",
   "metadata": {},
   "outputs": [],
   "source": [
    "data_fitness['CPM'] = data_fitness['Amount Spent ($)'] / data_fitness['Impressions'] * 1000"
   ]
  },
  {
   "cell_type": "code",
   "execution_count": 54,
   "id": "c9a78a6a",
   "metadata": {},
   "outputs": [
    {
     "data": {
      "text/plain": [
       "Ad Set (Fitness Journey)\n",
       "African Dance Rhythms             500.000000\n",
       "Australian Surfing Sessions       472.727273\n",
       "Brazilian Capoeira Craze          423.076923\n",
       "Canadian Wilderness Bootcamp      472.727273\n",
       "Caribbean Calisthenics Cruise     506.698565\n",
       "Desert Dune Workout               498.803828\n",
       "European Boxing Bash              466.562385\n",
       "Himalayan Yoga Retreat            472.727273\n",
       "Icelandic Viking Workout          547.368421\n",
       "Japanese Dojo Mastery             500.000000\n",
       "Mediterranean Pilates Paradise    472.727273\n",
       "North Pole Fitness Freeze         473.249908\n",
       "South American Salsa Swing        458.321678\n",
       "Name: CPM, dtype: float64"
      ]
     },
     "execution_count": 54,
     "metadata": {},
     "output_type": "execute_result"
    }
   ],
   "source": [
    "data_fitness.groupby('Ad Set (Fitness Journey)')['CPM'].mean()"
   ]
  },
  {
   "cell_type": "code",
   "execution_count": 55,
   "id": "50575e6f",
   "metadata": {},
   "outputs": [
    {
     "data": {
      "image/png": "[encoded data removed]",
      "text/plain": [
       "<Figure size 432x288 with 1 Axes>"
      ]
     },
     "metadata": {
      "needs_background": "light"
     },
     "output_type": "display_data"
    }
   ],
   "source": [
    "plt.plot(data_fitness.groupby('Ad Set (Fitness Journey)')['CPM'].mean())\n",
    "plt.xticks(rotation= 90)\n",
    "plt.show()"
   ]
  },
  {
   "cell_type": "code",
   "execution_count": 56,
   "id": "db2fec79",
   "metadata": {},
   "outputs": [
    {
     "data": {
      "image/png": "[encoded data removed]",
      "text/plain": [
       "<Figure size 432x288 with 1 Axes>"
      ]
     },
     "metadata": {
      "needs_background": "light"
     },
     "output_type": "display_data"
    }
   ],
   "source": [
    "plt.plot(data_fitness.groupby('Ad Set (Fitness Journey)')['CPR ($)'].max())\n",
    "plt.xticks(rotation= 90)\n",
    "plt.show()"
   ]
  },
  {
   "cell_type": "code",
   "execution_count": 57,
   "id": "d3b00a99",
   "metadata": {},
   "outputs": [
    {
     "data": {
      "image/png": "[encoded data removed]",
      "text/plain": [
       "<Figure size 1368x576 with 2 Axes>"
      ]
     },
     "metadata": {
      "needs_background": "light"
     },
     "output_type": "display_data"
    }
   ],
   "source": [
    "def bottom_funnel_fitness(df):\n",
    "    fig, axs = plt.subplots(1,2,figsize=(19,8))\n",
    "    sns.barplot(x= 'Ad Set (Fitness Journey)', y = 'Conversions (Sign-ups)',data= df,ax=axs[0])\n",
    "    axs[0].set_title('Conversions (Sign-ups)')\n",
    "    sns.barplot(x= 'Ad Set (Fitness Journey)', y = 'CPR ($)',data= df,ax=axs[1])\n",
    "    axs[1].set_title('Cost Per Result')\n",
    "\n",
    "    for x in axs :\n",
    "        for label in x.get_xticklabels():\n",
    "            label.set_rotation(90)\n",
    "    plt.show()  \n",
    "bottom_funnel_fitness(data_fitness)    "
   ]
  },
  {
   "cell_type": "code",
   "execution_count": 58,
   "id": "38142c67",
   "metadata": {},
   "outputs": [
    {
     "data": {
      "image/png": "[encoded data removed]",
      "text/plain": [
       "<Figure size 1368x576 with 2 Axes>"
      ]
     },
     "metadata": {
      "needs_background": "light"
     },
     "output_type": "display_data"
    }
   ],
   "source": [
    "def impression_ctr(df):\n",
    "    fig, axs = plt.subplots(1,2,figsize=(19,8))\n",
    "    sns.barplot(x= 'Ad Set (Fitness Journey)', y = 'CTR (%)',data= df,ax=axs[0])\n",
    "    axs[0].set_title('CTR')\n",
    "    sns.barplot(x= 'Ad Set (Fitness Journey)', y = 'Impressions',data= df,ax=axs[1])\n",
    "    axs[1].set_title('Impressions')\n",
    "    \n",
    "    for x in axs :\n",
    "        for label in x.get_xticklabels():\n",
    "            label.set_rotation(90)\n",
    "    plt.show() \n",
    "impression_ctr(data_fitness)    "
   ]
  },
  {
   "cell_type": "code",
   "execution_count": 59,
   "id": "136ba1df",
   "metadata": {},
   "outputs": [
    {
     "data": {
      "text/plain": [
       "557000"
      ]
     },
     "execution_count": 59,
     "metadata": {},
     "output_type": "execute_result"
    }
   ],
   "source": [
    "data_fitness['Impressions'].sum()"
   ]
  },
  {
   "cell_type": "code",
   "execution_count": 60,
   "id": "0d1fc9e5",
   "metadata": {},
   "outputs": [
    {
     "data": {
      "text/plain": [
       "267100"
      ]
     },
     "execution_count": 60,
     "metadata": {},
     "output_type": "execute_result"
    }
   ],
   "source": [
    "data_fitness['Amount Spent ($)'].sum()"
   ]
  },
  {
   "cell_type": "code",
   "execution_count": null,
   "id": "e6d36d29",
   "metadata": {},
   "outputs": [],
   "source": []
  }
 ],
 "metadata": {
  "kernelspec": {
   "display_name": "Python 3 (ipykernel)",
   "language": "python",
   "name": "python3"
  },
  "language_info": {
   "codemirror_mode": {
    "name": "ipython",
    "version": 3
   },
   "file_extension": ".py",
   "mimetype": "text/x-python",
   "name": "python",
   "nbconvert_exporter": "python",
   "pygments_lexer": "ipython3",
   "version": "3.9.12"
  }
 },
 "nbformat": 4,
 "nbformat_minor": 5
}
